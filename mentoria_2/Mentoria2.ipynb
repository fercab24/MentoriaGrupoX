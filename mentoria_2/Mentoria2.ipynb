{
  "nbformat": 4,
  "nbformat_minor": 0,
  "metadata": {
    "colab": {
      "name": "SegundaMentoria.ipynb",
      "provenance": [],
      "collapsed_sections": []
    },
    "kernelspec": {
      "name": "python3",
      "display_name": "Python 3"
    }
  },
  "cells": [
    {
      "cell_type": "markdown",
      "metadata": {
        "id": "M-nQGofxOA8S"
      },
      "source": [
        "#Bienvenidos a la mentoría: \n",
        "##\"Ciencia de datos aplicada al estudio de la Obesidad y otras enfermedades crónicas en Córdoba.\"\n"
      ]
    },
    {
      "cell_type": "markdown",
      "metadata": {
        "id": "LN5r00zhhL5d"
      },
      "source": [
        "##### Como primer objetivo proponemos acercarnos a la temática propuesta presentando una breve introducción de la misma y sus posibles determinantes.\n"
      ]
    },
    {
      "cell_type": "markdown",
      "metadata": {
        "id": "N5gkuPZ4OHbp"
      },
      "source": [
        "##Descripción del problema\n",
        "La obesidad es una enfermedad crónica multicausal de alta prevalencia en el mundo y Argentina. La misma se encuentra en constante aumento y en Córdoba son más del 50% las personas que presentan exceso de peso, y un 25% del total obesidad. Si bien se piensa que los principales factores que influyen en su desarrollo, son un nivel de actividad física inadecuado, el sedentarismo y una alimentación poco saludable, pueden existir otros determinantes de esta condición que deban ser considerados. Sin embargo, muchas veces es difícil contar con todos estos datos y analizarlos de manera conjunta  o considerando su efecto sinérgico.\n",
        "Por otra parte, al conocer los aspectos que más influyen en la ocurrencia de esta enfermedad se podría abordar de manera integral y ofrecer a la población información, realizar recomendaciones y utilizar estos resultados para implementar políticas públicas para enfrentar la pandemia de la obesidad.\n",
        "Así, en esta mentoría poneo a dispoición un dataset que tiene una numerosa variedad de features las cuales permitirán poder seleccionar aquellos que sean los mejores predictores para la enfermedad. También identificar patrones de alimentación y subgrupos de sujetos que compartan ciertas características, y de esta forma descubrir nuevos insights para desarrollar.   \n",
        "Además, resulta interesante desarrollar metodologías para analizar y describir este problema, las que pueden ser replicadas en otros de las Ciencias de la salud y en el que se utilicen principalmente las herramientas que la Ciencia de Datos provee.\n",
        "Esperamos que en esta mentoría puedas desarrollar y aplicar todas las herramientas y skills aprendidas durante el cursado de la diplomatura. Te proponemos objetivos específicos para la resolución de cada práctico poniendo en juego tus conocimientos y creatividad, y quién te dice encontras tu lado Abby Sciuto/John Snow. \n"
      ]
    },
    {
      "cell_type": "markdown",
      "metadata": {
        "id": "KzsI1LyHONx4"
      },
      "source": [
        "##Motivación\n",
        "❖\t¿Cuáles son las principales características de la población de Córdoba en cuanto a sus determinantes bio-socio-económicos?\n",
        "\n",
        "❖\t¿Es la obesidad una enfermedad que depende meramente de la alimentación de los sujetos?\n",
        "\n",
        "❖\t¿Cuáles son los factores alimentarios que promueven el desarrollo de la enfermedad?¿Y cuáles son aquellos que protegen?\n",
        "\n",
        "❖\t¿Se encuentra la obesidad asociada a la enfermedad cardiovascular?¿y al cáncer?\n",
        "\n",
        "❖\t¿Qué variables ayudarían a predecir el estado nutricional de un sujeto de la población de Córdoba?\n",
        "\n",
        "❖\t¿Cuáles son las características más visibles de los grupos según su estado nutricional?¿Existen características comunes que nos permitan predecir el estado nutricional que tendrá una persona?\n",
        "\n",
        "❖\t¿Existe algún patrón alimentario característico por grupos según la presencia o no de obesidad?\n",
        "\n",
        "\n"
      ]
    },
    {
      "cell_type": "markdown",
      "metadata": {
        "id": "mIzmOT_eOtAh"
      },
      "source": [
        "##Conociendo el dataset...\n",
        "Nuestra base de datos cuenta con 4292 observaciones y 239 variables. Para descargar la base pueden ingresar a el [github](https://github.com/Mentoria-obesidad/base-obesidad-segundo-practico) armado para esta mentoría. Por otro lado, al ser muchas las variables y algunas de ellas bastante complejas se creó un documento con el nombre de cada variable, su definición y codificación, que pueden observar en el siguiente [link.](https://github.com/Mentoria-obesidad/obesidad_data/blob/master/Codificaci%C3%B3n%20mentor%C3%ADa..docx.pdf)"
      ]
    },
    {
      "cell_type": "markdown",
      "metadata": {
        "id": "tFkXu9PjWgtf"
      },
      "source": [
        "# **Práctico N°2**           **Análisis y curación**"
      ]
    },
    {
      "cell_type": "markdown",
      "metadata": {
        "id": "l6dsCC0tg7aT"
      },
      "source": [
        "## Objetivo y alcance\n",
        "\n",
        "En esta segunda aproximación (que suele ir de la mano con el análisis exploratorio y visualización) se pretende empezar a transformar el dataset para los primeros experimentos de aprendedores en las siguientes materias. \n",
        "\n",
        "En este laboratorio el primer gran objetivo va a ser lograr un único dataset, que condense toda la información importante para el posterior entrenamiento y aprendizaje que permitirá conocer si algunas de las variables incluidas en el mismo tienen influencia sobre el desarrollo de obesidad.\n",
        " \n",
        "Se deberá explorar la base de datos y detectar variables erroneas, o información repetida, para que, luego de haber obtenido el dataset deseado, guardarlo en un archivo nuevo. \n",
        "\n",
        "\n"
      ]
    },
    {
      "cell_type": "markdown",
      "metadata": {
        "id": "40H2y33X2n9Q"
      },
      "source": [
        "## Método\n",
        "\n",
        "Para este laboratorio pueden usar tanto Python como R, y además de generar las variables nuevas que puedan ser necesarias más adelante, hay que limpiar los datos realizando un tratamiento similar de los datos al [laboratorio 1 dictada en las clases de A y C] (https://github.com/DiploDatos/AnalisisYCuracion/blob/master/notebooks/Limpieza.ipynb)\n",
        "\n",
        "Recuerden que la base para este práctico es diferente! descargarla en este [link](https://github.com/Mentoria-obesidad/base-obesidad-segundo-practico).\n"
      ]
    },
    {
      "cell_type": "markdown",
      "metadata": {
        "id": "xUkNE8uRdV6T"
      },
      "source": [
        "## Lista de tareas \n",
        "\n",
        "\n",
        "1) Verificar los tipos de datos detectados por pandas. Asegurar tipo de datos correctos para las variables que son continuas y aquellas que son categóricas. En el caso de no coincidir se deberán modificar la naturaleza de esas variables.\n",
        "\n",
        "2) Verificar y asegurar que no existan datos duplicados.\n",
        "\n",
        "3) Verificar que no existan caracteres \"raros\" para los datos de los features \"ubic\" y \"cod_encuestador\". Tip: Pueden hacerlo importando la librería ftfy.badness\n",
        "\n",
        "4) Codificar las categorías de la variable \"sexo\", \"ubic\" y \"nes\" para su posterior uso en los próximos prácticos.\n",
        "\n",
        "5) Verificar espacios y normalizar los nombres de al menos 10 features que crean convenientes para un mejor entendimiento de su significado. Por ej: \"riesgo\" cambiarla por \"cat_cintura\", entre otros que crean convenientes y vayan a ser usados por ustedes.\n",
        "\n",
        "6) Supongamos que necesitamos compartir públicamente todo el dataset y que los features \"cod_encuestador\" y \"dni\" son sensibles y confidenciales. Elijan y apliquen dos técnicas de despersonalización para solucionar este aspecto.\n",
        "\n",
        "7) Analizar y normalizar los datos faltantes (nulos).\n",
        "En este punto encontrarán que hay muchos features con datos faltantes, les pedimos que elijan los 3 features con mayor cantidad de registros nulos, para los cuales se espera un análisis sobre las posibles causas de cada uno (calculando la proporción que significan sobre todo el dataset y buscando posibles patrones respecto a otros features relacionados). Si tienen dudas antes de aplicarles un tratamiento a cada uno nos pueden consultar, tenemos a una experta en imputación en el grupo! :)\n",
        "\n",
        "8) Aplicar reglas de integridad sobre los datos, validando y normalizando al menos las siguientes:\n",
        "a) Existen sujetos que en la variable \"cancer\" pusieron que no, pero en \"ubic\" hay un número mayor al 1? o que haya un dato faltante en \"cancer\" pero exista un número mayor al 1 en \"ubic\"?\n",
        "b) Con respecto a los meses y estaciones del año, todos coinciden? hay algún mes o estación en la que no se hayan realizado encuestas? \n",
        "\n",
        "9) Outliers: Durante el Análisis que realizaron en nuestro Práctico anterior, descubrieron que existen valores atípicos aplicar una solución para normalizar solo esos Outliers. Recuerden que pueden consultarnos lo que haga falta!\n",
        "\n",
        "10) Guardar el dataset resultante con un nuevo nombre, para trabajarlo más adelante.\n",
        "\n",
        "#Se evaluarán los siguientes aspectos:\n",
        "  \n",
        "  1- Que se apliquen los conceptos vistos con los profes en el teórico y en el práctico.\n",
        "\n",
        "2- Que el entregable no sea solo la notebook. El informe debe tener un mensaje claro y debe presentarse en un formato legible para cualquier tipo de stakeholder. Además, se deberá entregar el dataset trabajado.\n",
        "\n",
        "3- Capacidad de Análisis.\n",
        "\n",
        "4- Criterio para elegir que solución aplicar en cada caso y con qué método implementarla.\n",
        "\n",
        "Deadline tentativo para la entrega 19/07/2020"
      ]
    },
    {
      "cell_type": "code",
      "metadata": {
        "id": "1NhMceCS1rOU",
        "outputId": "3b342840-38c3-4c55-9877-f91adcda0a49",
        "colab": {
          "resources": {
            "http://localhost:8080/nbextensions/google.colab/files.js": {
              "data": "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",
              "ok": true,
              "headers": [
                [
                  "content-type",
                  "application/javascript"
                ]
              ],
              "status": 200,
              "status_text": ""
            }
          },
          "base_uri": "https://localhost:8080/",
          "height": 106
        }
      },
      "source": [
        "from   google.colab      import files\n",
        "import pandas            as     pd\n",
        "import matplotlib.pyplot as     plt\n",
        "import numpy\n",
        "import seaborn\n",
        "import scipy\n",
        "\n",
        "encuestas   = files.upload()\n",
        "set_to_cure = pd.read_stata('Base para curacion.dta')"
      ],
      "execution_count": null,
      "outputs": [
        {
          "output_type": "stream",
          "text": [
            "/usr/local/lib/python3.6/dist-packages/statsmodels/tools/_testing.py:19: FutureWarning: pandas.util.testing is deprecated. Use the functions in the public API at pandas.testing instead.\n",
            "  import pandas.util.testing as tm\n"
          ],
          "name": "stderr"
        },
        {
          "output_type": "display_data",
          "data": {
            "text/html": [
              "\n",
              "     <input type=\"file\" id=\"files-0552cda3-7407-4b41-96c1-4b6529bcec05\" name=\"files[]\" multiple disabled\n",
              "        style=\"border:none\" />\n",
              "     <output id=\"result-0552cda3-7407-4b41-96c1-4b6529bcec05\">\n",
              "      Upload widget is only available when the cell has been executed in the\n",
              "      current browser session. Please rerun this cell to enable.\n",
              "      </output>\n",
              "      <script src=\"/nbextensions/google.colab/files.js\"></script> "
            ],
            "text/plain": [
              "<IPython.core.display.HTML object>"
            ]
          },
          "metadata": {
            "tags": []
          }
        },
        {
          "output_type": "stream",
          "text": [
            "Saving Base para curacion.dta to Base para curacion (2).dta\n"
          ],
          "name": "stdout"
        }
      ]
    },
    {
      "cell_type": "code",
      "metadata": {
        "id": "A315wgjfqzMI"
      },
      "source": [
        "# We are going to save the original dataset, just in case we need to compare other changes.\n",
        "backup      = pd.read_stata('Base para curacion.dta')\n",
        "set_to_cure = pd.read_stata('Base para curacion.dta')"
      ],
      "execution_count": null,
      "outputs": []
    },
    {
      "cell_type": "code",
      "metadata": {
        "id": "oL5kk6JvYR1Z",
        "outputId": "acfe8d37-82c8-4484-fdd8-34c04c488be9",
        "colab": {
          "base_uri": "https://localhost:8080/",
          "height": 204
        }
      },
      "source": [
        "# 1) Verificar los tipos de datos detectados por pandas. \n",
        "# Asegurar tipo de datos correctos para las variables que son continuas y aquellas que son categóricas. \n",
        "# En el caso de no coincidir se deberán modificar la naturaleza de esas variables.\n",
        "\n",
        "# Como la base de datos cuenta con muchas entradas creemos que es conveniente analizar\n",
        "# las variables separandolas por tipo, para identificar aquelas que no correspondan a\n",
        "# un tipo que en principio no corresponderia\n",
        "# Para eso, nos valemos de las herramientas de pandas\n",
        "\n",
        "# Extraemos los tipos de datos unicos\n",
        "unique_type_array = set_to_cure.dtypes.unique()\n",
        "for type in unique_type_array:\n",
        "  print (type)\n",
        "\n",
        "print('La cantidad de tipos de datos unicos son ' + str(len(unique_type_array)) )\n",
        "\n",
        "def get_data_with_type(type):\n",
        "  return set_to_cure.select_dtypes(include=type)"
      ],
      "execution_count": null,
      "outputs": [
        {
          "output_type": "stream",
          "text": [
            "int16\n",
            "int8\n",
            "category\n",
            "object\n",
            "float64\n",
            "category\n",
            "category\n",
            "category\n",
            "datetime64[ns]\n",
            "float32\n",
            "La cantidad de tipos de datos unicos son 10\n"
          ],
          "name": "stdout"
        }
      ]
    },
    {
      "cell_type": "code",
      "metadata": {
        "id": "CQsQT2aAt7Ss",
        "outputId": "23fb3908-bf6f-44c3-fd30-07cc94a9765a",
        "colab": {
          "base_uri": "https://localhost:8080/",
          "height": 34
        }
      },
      "source": [
        "##### Analizamos los int8 #####\n",
        "parsed_data = get_data_with_type('int8')\n",
        "\n",
        "# Vamos a ver si hay valores negativos, en caso positivo podemos pasar los datos \n",
        "# hay tipo unit8 en caso que se necesite ampliar el rango de la variable.\n",
        "for data in parsed_data:\n",
        "  if parsed_data[data].min() >= 0:\n",
        "    set_to_cure[data] = set_to_cure[data].astype('uint8')\n",
        "\n",
        "# Chequear que la edad sea mayor a 18.\n",
        "print (set_to_cure.edad.min() >= 18)"
      ],
      "execution_count": null,
      "outputs": [
        {
          "output_type": "stream",
          "text": [
            "True\n"
          ],
          "name": "stdout"
        }
      ]
    },
    {
      "cell_type": "code",
      "metadata": {
        "id": "6fddgqES-DEi",
        "outputId": "83c8cf6a-b217-4fcf-d26f-a4a581a83f1b",
        "colab": {
          "base_uri": "https://localhost:8080/",
          "height": 323
        }
      },
      "source": [
        "##### Analizamos los int16 #####\n",
        "\n",
        "parsed_data = get_data_with_type('int16')\n",
        "# parsed_data\n",
        "\n",
        "print ('Valores Maximos')\n",
        "print(parsed_data.max())\n",
        "print ('Valores Minimos')\n",
        "print(parsed_data.min())\n",
        "\n",
        "# Se puede observar que no hay valores negativos, entonces utizar variables de tipos de datos signadas\n",
        "# resulta innecesario, se pueden convertir esas variables a sin signo. Ademas viendo el valor maximo\n",
        "# muchas no superan el valor de 255, valor maximo representado por 8 bit, por lo que podriamos pasar\n",
        "# estas variables de tipo uint16 a uint8, reduciendo el almacenamiento\n",
        "for data in parsed_data:\n",
        "  if parsed_data[data].min() >= 0:\n",
        "    set_to_cure[data] = set_to_cure[data].astype('uint16')\n",
        "\n",
        "for data in parsed_data:\n",
        "  if set_to_cure[data].max() < 256: \n",
        "    set_to_cure[data] = set_to_cure[data].astype('uint8')\n"
      ],
      "execution_count": null,
      "outputs": [
        {
          "output_type": "stream",
          "text": [
            "Valores Maximos\n",
            "n_encuesta    4306\n",
            "ten1max        200\n",
            "ten1min        160\n",
            "cant           999\n",
            "nhijos         999\n",
            "ten2max        200\n",
            "ten2min        160\n",
            "dtype: int16\n",
            "Valores Minimos\n",
            "n_encuesta     1\n",
            "ten1max       70\n",
            "ten1min       40\n",
            "cant           1\n",
            "nhijos         1\n",
            "ten2max       70\n",
            "ten2min       30\n",
            "dtype: int16\n"
          ],
          "name": "stdout"
        }
      ]
    },
    {
      "cell_type": "code",
      "metadata": {
        "id": "hRZ6UofHydTX",
        "outputId": "699e7974-4880-42ec-ccb1-d32cdbdaa3c4",
        "colab": {
          "base_uri": "https://localhost:8080/",
          "height": 170
        }
      },
      "source": [
        "##### Analizamos los float32 #####\n",
        "parsed_data = get_data_with_type('float32')\n",
        "# Aqui observamos que la variable encuestador, no supera 2^16, podemos adaptar el valor a uint16\n",
        "if ((parsed_data.id - parsed_data.id.astype('uint32')).sum() == 0):\n",
        "  print('Se puede convertir')\n",
        "print(parsed_data.id.max())\n",
        "print(parsed_data.id.min())\n",
        "set_to_cure.id = set_to_cure.id.astype('uint16')\n",
        "\n",
        "# La variable dni, no tiene sentido que es almacena en punto flotante.\n",
        "if ((parsed_data.dni - parsed_data.dni.astype('uint32')).sum() == 0):\n",
        "  print('Se puede convertir')\n",
        "print(parsed_data.dni.max())\n",
        "print(parsed_data.dni.min())\n",
        "set_to_cure.dni = set_to_cure.dni.astype('uint16')\n",
        "\n",
        "# Aqui observamos que la variable encuestador, no supera los 255, podemos adaptar el valor a uint8\n",
        "if ((parsed_data.cod_enc - parsed_data.cod_enc.astype('uint32')).sum() == 0):\n",
        "  print('Se puede convertir')\n",
        "print(parsed_data.cod_enc.max())\n",
        "print(parsed_data.cod_enc.min())\n",
        "set_to_cure.cod_enc = set_to_cure.cod_enc.astype('uint8')\n"
      ],
      "execution_count": null,
      "outputs": [
        {
          "output_type": "stream",
          "text": [
            "Se puede convertir\n",
            "4292.0\n",
            "1.0\n",
            "Se puede convertir\n",
            "35998552.0\n",
            "6004653.0\n",
            "Se puede convertir\n",
            "16.0\n",
            "1.0\n"
          ],
          "name": "stdout"
        }
      ]
    },
    {
      "cell_type": "code",
      "metadata": {
        "id": "EbJaa28vzY2Y"
      },
      "source": [
        "##### Analizamos los float64 #####\n",
        "parsed_data = get_data_with_type('float64')\n",
        "\n",
        "# Aquellas que no correspendan al tipo float, \n",
        "# las vamos a castear a otro tipo de\n",
        "# datos, que mejor se adapte\n",
        "\n",
        "for data in parsed_data:\n",
        "  # Check for nan, an do nothing on that column\n",
        "  if parsed_data.dbt.isnull().sum() >= 1:\n",
        "    continue  \n",
        "  # Check for those that are not suitable for float64\n",
        "  if (parsed_data[data] - parsed_data[data].astype('Int64')) == 0:\n",
        "    if (parsed_data[data].min() >= 0 and parsed_data[data].max() < 256):\n",
        "      set_to_cure[data] = set_to_cure[data].astype('uint8')\n",
        "\n",
        "# Pandas cant work with with NaN, so those variables with NaN types are just floats"
      ],
      "execution_count": null,
      "outputs": []
    },
    {
      "cell_type": "code",
      "metadata": {
        "id": "pvrpFI1k3YFY",
        "outputId": "0c1f6f58-471f-4516-a0f7-0ed6aa93cf63",
        "colab": {
          "base_uri": "https://localhost:8080/",
          "height": 738
        }
      },
      "source": [
        "##### Analizamos los object #####\n",
        "parsed_data = get_data_with_type('object')\n",
        "print(parsed_data)\n",
        "\n",
        "# La idea de pasar las cosas de objets a otros tipos de datos, \n",
        "# es para poder realizar una analisis descriptivo, por ejemplo peso.min es 100 y max 99, \n",
        "# eso no tiene sentido\n",
        "\n",
        "# Para est, tiene pocos valores, asi que podria ser un tipo uint8\n",
        "seaborn.distplot(set_to_cure.est)\n",
        "set_to_cure.est = set_to_cure.est.astype('uint8')\n",
        "\n",
        "# Peso, al tener componente de punto fijo, tiene ser float\n",
        "# Ahora minimos in maximos tienen sentido\n",
        "set_to_cure.peso = set_to_cure.peso.astype('float16')\n",
        "print(set_to_cure.peso.min())\n",
        "print(set_to_cure.peso.max())\n",
        "\n",
        "# Lo mismo sucede con talla\n",
        "set_to_cure.talla = set_to_cure.talla.astype('float16')\n",
        "print(set_to_cure.talla.min())\n",
        "print(set_to_cure.talla.max())\n",
        "\n",
        "# estof, tiene valores con coma, asi que pasa a float\n",
        "set_to_cure.estof = set_to_cure.estof.astype('float16')\n",
        "\n",
        "# Estas tiene valores de X o * que no se podria pasar a otro tipo de dato\n",
        "print(parsed_data.actinose.unique())\n",
        "print(parsed_data.actmnose.unique())\n",
        "print(parsed_data.sentnose.unique())\n",
        "\n",
        "# sentmin tiene un valor '.', por el momento queda como esta.\n",
        "print(parsed_data.sentmin.unique())\n",
        "\n",
        "# La demas quedan como estan"
      ],
      "execution_count": null,
      "outputs": [
        {
          "output_type": "stream",
          "text": [
            "     est  peso talla       edulc  ... sentmin sentnose      dni_ cod_encuestador\n",
            "0      4  80.2  1.53           0  ...       0        0  26785856         Finneas\n",
            "1      3  75.1  1.69           0  ...       0        0  30523784         Beyonce\n",
            "2      4    58  1.63           0  ...     470        0  21817168          Alicia\n",
            "3      3  86.3  1.79      SIDIET  ...     300        0  28490942             Zoé\n",
            "4      4  82.4  1.76           0  ...       0        X  19646646         Natalia\n",
            "...   ..   ...   ...         ...  ...     ...      ...       ...             ...\n",
            "4293   4  60.5  1.46     Marolio  ...       .           25500380         Finneas\n",
            "4294   1    70   1.6           0  ...     300        0  12696663         Finneas\n",
            "4295   3  69.3  1.55  nutrasweet  ...       0        0  21815400         Finneas\n",
            "4296   4    57  1.65           0  ...       0        0  10387097         Vanessa\n",
            "4297   4    77   1.7           0  ...       0        0  15575931           Peggy\n",
            "\n",
            "[4298 rows x 12 columns]\n",
            "39.5\n",
            "184.0\n",
            "1.39\n",
            "1.98\n",
            "['0' '' 'x' 'X' '1' '3' '*' '7']\n",
            "['0' 'X' 'x' '' '5' '*' '1' '20']\n",
            "['0' 'X' '' 'x' '*' '1' '4' 'nose']\n",
            "['0' '470' '300' '120' '530' '330' '210' '480' '160' '410' '240' '180'\n",
            " '580' '.' '350' '450' '360' '220' '290' '340' '90' '460' '20' '60' '650'\n",
            " '540' '420' '590' '400' '280' '45' '600' '430' '570' '440' '130' '560'\n",
            " '30' '520' '550' '140' '840' '40' '380' '35' '780' '100' '270' '110'\n",
            " '370' '435' '425' '310' '150' '41' '900' '555' '375' '12' '545' '230'\n",
            " '190' '365' '720' '660']\n"
          ],
          "name": "stdout"
        },
        {
          "output_type": "display_data",
          "data": {
            "image/png": "[encoded data removed]",
            "text/plain": [
              "<Figure size 432x288 with 1 Axes>"
            ]
          },
          "metadata": {
            "tags": [],
            "needs_background": "light"
          }
        }
      ]
    },
    {
      "cell_type": "code",
      "metadata": {
        "id": "57Lk_wU4pmkJ"
      },
      "source": [
        "##### Analizamos los datetime64 #####\n",
        "def date_to_int(data, column):\n",
        "  for i in range(len(data)):\n",
        "    if not pd.isnull(data[column][i]):\n",
        "      data.loc[i, column] = int(data[column][i].strftime('%M'))/60 + int(data[column][i].strftime('%H'))\n",
        "\n",
        "date_to_change = ['actih','actch','senth']\n",
        "for var in date_to_change:\n",
        "  date_to_int(set_to_cure,var)"
      ],
      "execution_count": null,
      "outputs": []
    },
    {
      "cell_type": "code",
      "metadata": {
        "id": "cuXpbPt34Wzw",
        "outputId": "288a5dec-0b54-4d8a-c084-5fe3a3328775",
        "colab": {
          "base_uri": "https://localhost:8080/",
          "height": 221
        }
      },
      "source": [
        "##### Analizamos los category #####\n",
        "parsed_data = get_data_with_type('category')\n",
        "parsed_data\n",
        "\n",
        "for data in parsed_data:\n",
        "  print(parsed_data[data].unique())"
      ],
      "execution_count": null,
      "outputs": [
        {
          "output_type": "stream",
          "text": [
            "[diciembre, agosto, septiembre, noviembre, enero, octubre, julio, febrero, marzo]\n",
            "Categories (9, object): [enero < febrero < marzo < julio ... septiembre < octubre < noviembre <\n",
            "                         diciembre]\n",
            "[no tiene, cuello uterino, ovario, endometrio, mamas, ..., esófago, Cuello, Sublingual, Ganglio, Brazo]\n",
            "Length: 30\n",
            "Categories (29, object): [no tiene < cavidad oral y del labio < laringe < esófago ... Matriz < Oído <\n",
            "                          Sublingual < Útero]\n",
            "[Femenino, Masculino]\n",
            "Categories (2, object): [Masculino < Femenino]\n",
            "[bajo superior, medio alto, alto, marginal, bajo inferior, medio típico]\n",
            "Categories (6, object): [alto < medio alto < medio típico < bajo superior < bajo inferior <\n",
            "                         marginal]\n"
          ],
          "name": "stdout"
        }
      ]
    },
    {
      "cell_type": "code",
      "metadata": {
        "id": "ZxwrLOCl0iRI",
        "outputId": "e5c9bdc3-51f1-4af1-a7b0-fb07cb68b081",
        "colab": {
          "base_uri": "https://localhost:8080/",
          "height": 68
        }
      },
      "source": [
        "# 2) Verificar y asegurar que no existan datos duplicados.\n",
        "var_that_must_not_be_duplicated = ['dni','dni_','id','n_encuesta']\n",
        "\n",
        "data_duplicated = set_to_cure[set_to_cure.duplicated(subset=var_that_must_not_be_duplicated)]\n",
        "print(set_to_cure.shape)\n",
        "print(data_duplicated.shape)\n",
        "\n",
        "set_to_cure = set_to_cure.drop_duplicates(subset=var_that_must_not_be_duplicated)\n",
        "print(set_to_cure.shape)"
      ],
      "execution_count": null,
      "outputs": [
        {
          "output_type": "stream",
          "text": [
            "(4298, 243)\n",
            "(6, 243)\n",
            "(4292, 243)\n"
          ],
          "name": "stdout"
        }
      ]
    },
    {
      "cell_type": "code",
      "metadata": {
        "id": "_-45pvRh0iOo",
        "outputId": "5383cd67-c040-403c-df5e-95435fd073fa",
        "colab": {
          "base_uri": "https://localhost:8080/",
          "height": 51
        }
      },
      "source": [
        "# 3) Verificar que no existan caracteres \"raros\" para los datos de los features \"ubic\" y \"cod_encuestador\".\n",
        "import string\n",
        "\n",
        "def is_printable_ascii(val):\n",
        "  is_ascii = True\n",
        "  for letter in val:\n",
        "    is_ascii &= letter in string.printable\n",
        "  return is_ascii\n",
        "\n",
        "def get_names_to_change(var):\n",
        "  to_change = []\n",
        "  for name in set_to_cure[var].unique():\n",
        "    if is_printable_ascii(str(name)):\n",
        "      continue;\n",
        "    to_change.append(name)\n",
        "  return to_change\n",
        "\n",
        "# Lo hacemos para ubic\n",
        "to_change = get_names_to_change('ubic')\n",
        "print(to_change)\n",
        "\n",
        "dictionary = {'próstata' : 'prostata',\n",
        "              'estómago' : 'estomago',\n",
        "              'Oído'     : 'oido',\n",
        "              'hígado'   : 'higado',\n",
        "              'riñón'    : 'rinion',\n",
        "              'pulmón'   : 'pulmon',\n",
        "              'Útero'    : 'utero',\n",
        "              'esófago'  : 'esofago'}\n",
        "set_to_cure.ubic = set_to_cure.ubic.replace(dictionary)\n",
        "\n",
        "# Lo hacemos para cod_encuestador\n",
        "to_change = get_names_to_change('cod_encuestador')\n",
        "print(to_change)\n",
        "dictionary = {'Zoé' : 'Zoe'}\n",
        "set_to_cure.cod_encuestador = set_to_cure.cod_encuestador.replace(dictionary)"
      ],
      "execution_count": null,
      "outputs": [
        {
          "output_type": "stream",
          "text": [
            "['próstata', 'estómago', 'Oído', 'hígado', 'riñón', 'pulmón', 'Útero', 'esófago']\n",
            "['Zoé']\n"
          ],
          "name": "stdout"
        }
      ]
    },
    {
      "cell_type": "code",
      "metadata": {
        "id": "JCHSyrqh0iMh",
        "outputId": "633cf4db-8018-4465-9414-f5dd7d4f6d18",
        "colab": {
          "base_uri": "https://localhost:8080/",
          "height": 88
        }
      },
      "source": [
        "# 4) Codificar las categorías de la variable \"sexo\", \"ubic\" y \"nes\" para su posterior uso en los próximos prácticos.\n",
        "from sklearn import preprocessing\n",
        "\n",
        "set_to_cure.ubic = set_to_cure.ubic.astype('string')\n",
        "set_to_cure.ubic[pd.isnull(set_to_cure.ubic)] = 'NaN'\n",
        "\n",
        "columns=['sexo','nes','ubic']\n",
        "# FIXME guardar el dictionario en una variable\n",
        "for column in columns:\n",
        "  # Create a label (category) encoder object\n",
        "  le = preprocessing.LabelEncoder()\n",
        "  # Fit the encoder to the pandas column\n",
        "  le.fit(set_to_cure[column])\n",
        "  print( dict(zip(le.classes_,le.transform(le.classes_))) )\n",
        "  set_to_cure[column] = le.transform(set_to_cure[column]) \n"
      ],
      "execution_count": null,
      "outputs": [
        {
          "output_type": "stream",
          "text": [
            "{'Femenino': 0, 'Masculino': 1}\n",
            "{'alto': 0, 'bajo inferior': 1, 'bajo superior': 2, 'marginal': 3, 'medio alto': 4, 'medio típico': 5}\n",
            "{'Brazo': 0, 'Cuello': 1, 'Ganglio': 2, 'Hombro': 3, 'Matriz': 4, 'NaN': 5, 'Sublingual': 6, 'cavidad oral y del labio': 7, 'cerebro: tumor cerebral en adultos': 8, 'colon': 9, 'cuello uterino': 10, 'endometrio': 11, 'esofago': 12, 'estomago': 13, 'higado': 14, 'huesos': 15, 'intestino delgado': 16, 'laringe': 17, 'mamas': 18, 'nariz': 19, 'no tiene': 20, 'oido': 21, 'ovario': 22, 'piel': 23, 'prostata': 24, 'pulmon': 25, 'rinion': 26, 'tiroides': 27, 'utero': 28, 'vejiga': 29}\n"
          ],
          "name": "stdout"
        }
      ]
    },
    {
      "cell_type": "code",
      "metadata": {
        "id": "fWCk-iLb0iKK"
      },
      "source": [
        "# 5) Verificar espacios y normalizar los nombres de al menos 10 features que crean convenientes para un mejor entendimiento de su significado. \n",
        "# Por ej: \"riesgo\" cambiarla por \"cat_cintura\", entre otros que crean convenientes y vayan a ser usados por ustedes.\n",
        "to_change   = ['tipo','veces','riesgo','eent','Nombre','tiempo','carga','ubic', 'imagen','perc']\n",
        "better_name = ['act_fis_tipo', 'act_fis_veces','cat_cintura','nivel_edu','act_fis_nombre', 'dbt_duracion', 'act_fis_carga', 'ubic_tumor','imagen_juzgada', 'imagen_percibida' ]\n",
        "for index in range(len(to_change)):\n",
        "  set_to_cure = set_to_cure.rename(columns={to_change[index] : better_name[index]})\n"
      ],
      "execution_count": null,
      "outputs": []
    },
    {
      "cell_type": "code",
      "metadata": {
        "id": "oGQQvkQp0iHG"
      },
      "source": [
        "# 6) Supongamos que necesitamos compartir públicamente todo el dataset y que los features \"cod_encuestador\" y \"dni\" son sensibles y confidenciales. \n",
        "# Elijan y apliquen dos técnicas de despersonalización para solucionar este aspecto.\n",
        "from hashlib import md5,sha256\n",
        "\n",
        "def hashit(val): \n",
        "  if isinstance(val, float): \n",
        "    return str(val) \n",
        "  return md5(val.encode('utf-8')).hexdigest() \n",
        "\n",
        "def hashit_sha256(val):\n",
        "    if isinstance(val, float): \n",
        "        return str(val)\n",
        "    return sha256(val.encode('utf-8')).hexdigest()\n",
        "\n",
        "set_to_cure['cod_encuestador'] = set_to_cure['cod_encuestador'].apply(hashit) # listado de las tres características con más valroes nulos \n",
        "set_to_cure['dni_']            = set_to_cure['dni_']           .apply(hashit_sha256)"
      ],
      "execution_count": null,
      "outputs": []
    },
    {
      "cell_type": "code",
      "metadata": {
        "id": "u9vfbsTO0iEt",
        "outputId": "48b77795-3b3b-4ba1-fb46-6811cd60a6b4",
        "colab": {
          "base_uri": "https://localhost:8080/",
          "height": 789
        }
      },
      "source": [
        "# 7) Analizar y normalizar los datos faltantes (nulos). En este punto encontrarán que hay muchos features con datos faltantes, \n",
        "# les pedimos que elijan los 3 features con mayor cantidad de registros nulos, \n",
        "# para los cuales se espera un análisis sobre las posibles causas de cada uno \n",
        "# (calculando la proporción que significan sobre todo el dataset y buscando posibles patrones respecto a otros features relacionados). \n",
        "# Si tienen dudas antes de aplicarles un tratamiento a cada uno nos pueden consultar, tenemos a una experta en imputación en el grupo! :)\n",
        "valores_nulos = set_to_cure.isnull().sum() \n",
        "valores_nulos[valores_nulos > 0].sort_values(ascending=False)[:10]/len(set_to_cure) * 100\n",
        "\n",
        "# grupoedadW\n",
        "bins   = range(0,110,10)\n",
        "labels = range(0,10)\n",
        "set_to_cure.grupoedad = pd.cut(set_to_cure.edad, bins, labels = labels)\n",
        "\n",
        "# Carga, agregamos un nuevo valor dentro de carga 4: no hace\n",
        "# for i in range(set_to_cure.shape[0]):\n",
        "#   if ((pd.isna(set_to_cure.act_fis_carga[i])) and (set_to_cure.actfis[i] == 1)):\n",
        "#     set_to_cure.loc[i, 'act_fis_carga'] = 4\n",
        "#   if ((pd.isna(set_to_cure.act_fis_carga[i])) and (set_to_cure.act_fis_veces[i] == 1)):\n",
        "#     set_to_cure.loc[i, 'act_fis_carga'] = 4\n",
        "set_to_cure.act_fis_carga[(pd.isna(set_to_cure.act_fis_carga)) & (set_to_cure.actfis == 1)]        = 4\n",
        "set_to_cure.act_fis_carga[(pd.isna(set_to_cure.act_fis_carga)) & (set_to_cure.act_fis_veces == 1)] = 4\n",
        "\n",
        "# ingesta de grasas.\n",
        "# Para inferir miramos la distrubucion de la varible\n",
        "seaborn.distplot(backup.fgins2)\n",
        "seaborn.boxplot(backup.fgins2)\n",
        "# Vemos que hay valores atipicos\n",
        "var = 'fgins2'\n",
        "range  = backup[var].quantile(0.75) - backup[var].quantile(0.25)\n",
        "high_outliers = (backup[var]) >= ((backup[var].quantile(0.75)) + 1.5 * range)\n",
        "low_outliers  = (backup[var]) <= ((backup[var].quantile(0.25)) - 1.5 * range)\n",
        "print('Se eliminaron ' + str(high_outliers.sum() + low_outliers.sum()) + ' Outliers' )\n",
        "\n",
        "# Eliminamos, para acercar las distubuciones de las frecuencias de los valores\n",
        "backup[var][high_outliers] = numpy.nan\n",
        "backup[var][low_outliers]  = numpy.nan\n",
        "\n",
        "# Volvemos a graficar y aun asi sigue sin tener distribucion normal por Shapiro\n",
        "seaborn.distplot(backup.fgins2)\n",
        "print(scipy.stats.shapiro(backup.fgins2.dropna()))\n",
        "\n",
        "# Los rangos los dividimos equitativamente en 3\n",
        "set_to_cure.fgins1[backup.fgins2 < backup.fgins2.quantile(0.33)] = 1\n",
        "set_to_cure.fgins1[(backup.fgins2 >= backup.fgins2.quantile(0.33)) & (backup.fgins2 <= backup.fgins2.quantile(0.66))] = 2\n",
        "set_to_cure.fgins1[backup.fgins2 > backup.fgins2.quantile(0.66)] = 3"
      ],
      "execution_count": null,
      "outputs": [
        {
          "output_type": "stream",
          "text": [
            "/usr/local/lib/python3.6/dist-packages/ipykernel_launcher.py:20: SettingWithCopyWarning: \n",
            "A value is trying to be set on a copy of a slice from a DataFrame\n",
            "\n",
            "See the caveats in the documentation: https://pandas.pydata.org/pandas-docs/stable/user_guide/indexing.html#returning-a-view-versus-a-copy\n",
            "/usr/local/lib/python3.6/dist-packages/ipykernel_launcher.py:21: SettingWithCopyWarning: \n",
            "A value is trying to be set on a copy of a slice from a DataFrame\n",
            "\n",
            "See the caveats in the documentation: https://pandas.pydata.org/pandas-docs/stable/user_guide/indexing.html#returning-a-view-versus-a-copy\n",
            "/usr/local/lib/python3.6/dist-packages/ipykernel_launcher.py:35: SettingWithCopyWarning: \n",
            "A value is trying to be set on a copy of a slice from a DataFrame\n",
            "\n",
            "See the caveats in the documentation: https://pandas.pydata.org/pandas-docs/stable/user_guide/indexing.html#returning-a-view-versus-a-copy\n",
            "/usr/local/lib/python3.6/dist-packages/ipykernel_launcher.py:36: SettingWithCopyWarning: \n",
            "A value is trying to be set on a copy of a slice from a DataFrame\n",
            "\n",
            "See the caveats in the documentation: https://pandas.pydata.org/pandas-docs/stable/user_guide/indexing.html#returning-a-view-versus-a-copy\n",
            "/usr/local/lib/python3.6/dist-packages/ipykernel_launcher.py:43: SettingWithCopyWarning: \n",
            "A value is trying to be set on a copy of a slice from a DataFrame\n",
            "\n",
            "See the caveats in the documentation: https://pandas.pydata.org/pandas-docs/stable/user_guide/indexing.html#returning-a-view-versus-a-copy\n",
            "/usr/local/lib/python3.6/dist-packages/ipykernel_launcher.py:44: SettingWithCopyWarning: \n",
            "A value is trying to be set on a copy of a slice from a DataFrame\n",
            "\n",
            "See the caveats in the documentation: https://pandas.pydata.org/pandas-docs/stable/user_guide/indexing.html#returning-a-view-versus-a-copy\n",
            "/usr/local/lib/python3.6/dist-packages/ipykernel_launcher.py:45: SettingWithCopyWarning: \n",
            "A value is trying to be set on a copy of a slice from a DataFrame\n",
            "\n",
            "See the caveats in the documentation: https://pandas.pydata.org/pandas-docs/stable/user_guide/indexing.html#returning-a-view-versus-a-copy\n"
          ],
          "name": "stderr"
        },
        {
          "output_type": "stream",
          "text": [
            "Se eliminaron 129 Outliers\n",
            "(0.9806068539619446, 2.4198380842857817e-23)\n"
          ],
          "name": "stdout"
        },
        {
          "output_type": "display_data",
          "data": {
            "image/png": "[encoded data removed]",
            "text/plain": [
              "<Figure size 432x288 with 1 Axes>"
            ]
          },
          "metadata": {
            "tags": [],
            "needs_background": "light"
          }
        }
      ]
    },
    {
      "cell_type": "code",
      "metadata": {
        "id": "hv3zOlFb0iAu",
        "outputId": "8956b965-c900-4d70-8e64-0e8e2da299a4",
        "colab": {
          "base_uri": "https://localhost:8080/",
          "height": 1000
        }
      },
      "source": [
        "# 8) Aplicar reglas de integridad sobre los datos, validando y normalizando al menos las siguientes: \n",
        "# a) Existen sujetos que en la variable \"cancer\" pusieron que no, pero en \"ubic\" hay un número mayor al 1? o que haya un dato faltante en \"cancer\" pero exista un número mayor al 1 en \"ubic\"? \n",
        "# b) Con respecto a los meses y estaciones del año, todos coinciden? hay algún mes o estación en la que no se hayan realizado encuestas?\n",
        "cancer_good            = set_to_cure[(set_to_cure.cancer == 1) & (set_to_cure.ubic_tumor == 21)]\n",
        "has_cancer_but_no_ubic = set_to_cure[(set_to_cure.cancer == 2) & (set_to_cure.ubic_tumor == 21)] #& (set_to_cure.tratinst != 999)] # Usamos la de si esta tratando\n",
        "has_ubic_but_no_cancer = set_to_cure[(set_to_cure.cancer == 1) & (set_to_cure.ubic_tumor != 21)] #& (set_to_cure.tratinst == 999)] # Usamos la de si esta tratando \n",
        "\n",
        "# para este miran las demas variables asociadas a cancer como tratamiento, maligno o bening, para confirma que \n",
        "# las entradas corresponde a una condicion positiva el cancer\n",
        "print(has_cancer_but_no_ubic[['cancer','ubic_tumor','tratinst','tummal','tumben']]) # 7 por aqui\n",
        "# Con esta la el uno en cancer tiene que pasar a 2, que no mienta\n",
        "print(has_ubic_but_no_cancer[['cancer','ubic_tumor','tratinst','tummal','tumben']]) # 9 por aqui\n",
        "\n",
        "# tiene cancer pero no tiene ubicacion, y con las variables complementarias, ubic pasa a nan \n",
        "set_to_cure.ubic_tumor[(set_to_cure.cancer == 2) & (set_to_cure.ubic_tumor == 21)] = 'NaN' \n",
        "# Entrada 2351, no tiene nada, pero si ubic, entonces ubic pasa a no tiene\n",
        "set_to_cure.loc[2351,'ubic_tumor'] = 21\n",
        "# Para los que no tiene cancer, pero tienen ubic\n",
        "# Segun el instituto nacional de cancer de Estados Unidos, se considera que hay cancer\n",
        "# cuando el tumor es maligno, # entry 1073\n",
        "set_to_cure.cancer[(set_to_cure.cancer == 1) & (set_to_cure.tummal == 2)] = 2\n",
        "\n",
        "# Para los meses\n",
        "# Faltan los meses de otonio\n",
        "print(set_to_cure.mes.unique())\n",
        "# Verano\n",
        "set_to_cure.est[((set_to_cure.mes == 'diciembre') & (set_to_cure.est != 1)) | (set_to_cure.est != 4)] = 1 \n",
        "set_to_cure.est[((set_to_cure.mes == 'enero')     & (set_to_cure.est != 1))]                          = 1 \n",
        "set_to_cure.est[((set_to_cure.mes == 'febrero')   & (set_to_cure.est != 1))]                          = 1 \n",
        "set_to_cure.est[((set_to_cure.mes == 'marzo')     & (set_to_cure.est != 1)) | (set_to_cure.est != 2)] = 1\n",
        "# Otono\n",
        "# Invierno\n",
        "set_to_cure.est[((set_to_cure.mes == 'junio')      & (set_to_cure.est != 3)) | (set_to_cure.est != 2)] = 3 \n",
        "set_to_cure.est[((set_to_cure.mes == 'julio')      & (set_to_cure.est != 3))]                          = 3 \n",
        "set_to_cure.est[((set_to_cure.mes == 'agosto')     & (set_to_cure.est != 3))]                          = 3 \n",
        "set_to_cure.est[((set_to_cure.mes == 'septiembre') & (set_to_cure.est != 3)) | (set_to_cure.est != 4)] = 3\n",
        "# Primavera\n",
        "set_to_cure.est[((set_to_cure.mes == 'septiembre')  & (set_to_cure.est != 4)) | (set_to_cure.est != 3)] = 4 \n",
        "set_to_cure.est[((set_to_cure.mes == 'octubre')     & (set_to_cure.est != 4))]                          = 4 \n",
        "set_to_cure.est[((set_to_cure.mes == 'noviembre')   & (set_to_cure.est != 4))]                          = 4"
      ],
      "execution_count": null,
      "outputs": [
        {
          "output_type": "stream",
          "text": [
            "Empty DataFrame\n",
            "Columns: [cancer, ubic_tumor, tratinst, tummal, tumben]\n",
            "Index: []\n",
            "      cancer ubic_tumor  tratinst  tummal  tumben\n",
            "0        1.0         20     999.0     1.0     1.0\n",
            "1        1.0         20     999.0     1.0     1.0\n",
            "2        1.0         20     999.0     1.0     1.0\n",
            "3        1.0         20     999.0     1.0     1.0\n",
            "4        1.0         20     999.0     1.0     1.0\n",
            "...      ...        ...       ...     ...     ...\n",
            "4033     1.0         20     999.0     1.0     1.0\n",
            "4034     1.0         20     999.0     1.0     1.0\n",
            "4035     1.0         20     999.0     1.0     1.0\n",
            "4036     1.0         20     999.0     1.0     1.0\n",
            "4037     1.0         20     999.0     1.0     1.0\n",
            "\n",
            "[4030 rows x 5 columns]\n",
            "[diciembre, agosto, septiembre, noviembre, enero, octubre, julio, febrero, marzo]\n",
            "Categories (9, object): [enero < febrero < marzo < julio ... septiembre < octubre < noviembre <\n",
            "                         diciembre]\n"
          ],
          "name": "stdout"
        },
        {
          "output_type": "stream",
          "text": [
            "/usr/local/lib/python3.6/dist-packages/ipykernel_launcher.py:15: SettingWithCopyWarning: \n",
            "A value is trying to be set on a copy of a slice from a DataFrame\n",
            "\n",
            "See the caveats in the documentation: https://pandas.pydata.org/pandas-docs/stable/user_guide/indexing.html#returning-a-view-versus-a-copy\n",
            "  from ipykernel import kernelapp as app\n",
            "/usr/local/lib/python3.6/dist-packages/ipykernel_launcher.py:21: SettingWithCopyWarning: \n",
            "A value is trying to be set on a copy of a slice from a DataFrame\n",
            "\n",
            "See the caveats in the documentation: https://pandas.pydata.org/pandas-docs/stable/user_guide/indexing.html#returning-a-view-versus-a-copy\n",
            "/usr/local/lib/python3.6/dist-packages/ipykernel_launcher.py:27: SettingWithCopyWarning: \n",
            "A value is trying to be set on a copy of a slice from a DataFrame\n",
            "\n",
            "See the caveats in the documentation: https://pandas.pydata.org/pandas-docs/stable/user_guide/indexing.html#returning-a-view-versus-a-copy\n",
            "/usr/local/lib/python3.6/dist-packages/ipykernel_launcher.py:28: SettingWithCopyWarning: \n",
            "A value is trying to be set on a copy of a slice from a DataFrame\n",
            "\n",
            "See the caveats in the documentation: https://pandas.pydata.org/pandas-docs/stable/user_guide/indexing.html#returning-a-view-versus-a-copy\n",
            "/usr/local/lib/python3.6/dist-packages/ipykernel_launcher.py:29: SettingWithCopyWarning: \n",
            "A value is trying to be set on a copy of a slice from a DataFrame\n",
            "\n",
            "See the caveats in the documentation: https://pandas.pydata.org/pandas-docs/stable/user_guide/indexing.html#returning-a-view-versus-a-copy\n",
            "/usr/local/lib/python3.6/dist-packages/ipykernel_launcher.py:30: SettingWithCopyWarning: \n",
            "A value is trying to be set on a copy of a slice from a DataFrame\n",
            "\n",
            "See the caveats in the documentation: https://pandas.pydata.org/pandas-docs/stable/user_guide/indexing.html#returning-a-view-versus-a-copy\n",
            "/usr/local/lib/python3.6/dist-packages/ipykernel_launcher.py:33: SettingWithCopyWarning: \n",
            "A value is trying to be set on a copy of a slice from a DataFrame\n",
            "\n",
            "See the caveats in the documentation: https://pandas.pydata.org/pandas-docs/stable/user_guide/indexing.html#returning-a-view-versus-a-copy\n",
            "/usr/local/lib/python3.6/dist-packages/ipykernel_launcher.py:34: SettingWithCopyWarning: \n",
            "A value is trying to be set on a copy of a slice from a DataFrame\n",
            "\n",
            "See the caveats in the documentation: https://pandas.pydata.org/pandas-docs/stable/user_guide/indexing.html#returning-a-view-versus-a-copy\n",
            "/usr/local/lib/python3.6/dist-packages/ipykernel_launcher.py:35: SettingWithCopyWarning: \n",
            "A value is trying to be set on a copy of a slice from a DataFrame\n",
            "\n",
            "See the caveats in the documentation: https://pandas.pydata.org/pandas-docs/stable/user_guide/indexing.html#returning-a-view-versus-a-copy\n",
            "/usr/local/lib/python3.6/dist-packages/ipykernel_launcher.py:36: SettingWithCopyWarning: \n",
            "A value is trying to be set on a copy of a slice from a DataFrame\n",
            "\n",
            "See the caveats in the documentation: https://pandas.pydata.org/pandas-docs/stable/user_guide/indexing.html#returning-a-view-versus-a-copy\n",
            "/usr/local/lib/python3.6/dist-packages/ipykernel_launcher.py:38: SettingWithCopyWarning: \n",
            "A value is trying to be set on a copy of a slice from a DataFrame\n",
            "\n",
            "See the caveats in the documentation: https://pandas.pydata.org/pandas-docs/stable/user_guide/indexing.html#returning-a-view-versus-a-copy\n",
            "/usr/local/lib/python3.6/dist-packages/ipykernel_launcher.py:39: SettingWithCopyWarning: \n",
            "A value is trying to be set on a copy of a slice from a DataFrame\n",
            "\n",
            "See the caveats in the documentation: https://pandas.pydata.org/pandas-docs/stable/user_guide/indexing.html#returning-a-view-versus-a-copy\n",
            "/usr/local/lib/python3.6/dist-packages/ipykernel_launcher.py:40: SettingWithCopyWarning: \n",
            "A value is trying to be set on a copy of a slice from a DataFrame\n",
            "\n",
            "See the caveats in the documentation: https://pandas.pydata.org/pandas-docs/stable/user_guide/indexing.html#returning-a-view-versus-a-copy\n"
          ],
          "name": "stderr"
        }
      ]
    },
    {
      "cell_type": "code",
      "metadata": {
        "id": "MRShfVTk0h7r",
        "outputId": "22bfb847-23e3-413e-d711-18c54a02e1d4",
        "colab": {
          "base_uri": "https://localhost:8080/",
          "height": 238
        }
      },
      "source": [
        "# 9) Outliers: Durante el Análisis que realizaron en nuestro Práctico anterior, descubrieron que existen valores atípicos aplicar una solución para normalizar solo esos Outliers. \n",
        "# Recuerden que pueden consultarnos lo que haga falta!\n",
        "\n",
        "# Por ejemplo podemos hacerlos para las variables continuas mets, fgr2, imc continua para cada sexo\n",
        "\n",
        "def clean_outliers(set_to_cure, var):\n",
        "  range  = set_to_cure[var].quantile(0.75) - set_to_cure[var].quantile(0.25)\n",
        "\n",
        "  high_outliers = (set_to_cure[var]) >= ((set_to_cure[var].quantile(0.75)) + 1.5 * range)\n",
        "  low_outliers  = (set_to_cure[var]) <= ((set_to_cure[var].quantile(0.25)) - 1.5 * range)\n",
        "  print('Se eliminaron ' + str(high_outliers.sum() + low_outliers.sum()) + ' Outliers' )\n",
        "\n",
        "  set_to_cure[var][high_outliers] = numpy.nan\n",
        "  set_to_cure[var][low_outliers]  = numpy.nan\n",
        "  return set_to_cure\n",
        "\n",
        "vars_to_adjust = ['mets','fgr2','IMC']\n",
        "for var in vars_to_adjust:\n",
        "  set_to_cure = clean_outliers(set_to_cure, var)"
      ],
      "execution_count": null,
      "outputs": [
        {
          "output_type": "stream",
          "text": [
            "Se eliminaron 364 Outliers\n",
            "Se eliminaron 141 Outliers\n",
            "Se eliminaron 114 Outliers\n"
          ],
          "name": "stdout"
        },
        {
          "output_type": "stream",
          "text": [
            "/usr/local/lib/python3.6/dist-packages/ipykernel_launcher.py:13: SettingWithCopyWarning: \n",
            "A value is trying to be set on a copy of a slice from a DataFrame\n",
            "\n",
            "See the caveats in the documentation: https://pandas.pydata.org/pandas-docs/stable/user_guide/indexing.html#returning-a-view-versus-a-copy\n",
            "  del sys.path[0]\n",
            "/usr/local/lib/python3.6/dist-packages/ipykernel_launcher.py:14: SettingWithCopyWarning: \n",
            "A value is trying to be set on a copy of a slice from a DataFrame\n",
            "\n",
            "See the caveats in the documentation: https://pandas.pydata.org/pandas-docs/stable/user_guide/indexing.html#returning-a-view-versus-a-copy\n",
            "  \n"
          ],
          "name": "stderr"
        }
      ]
    },
    {
      "cell_type": "code",
      "metadata": {
        "id": "g1g58zn10h4o",
        "outputId": "60aeb39b-5dc3-4ece-8b82-6f828f416ea9",
        "colab": {
          "base_uri": "https://localhost:8080/",
          "height": 17
        }
      },
      "source": [
        "# 10) Guardar el dataset resultante con un nuevo nombre, para trabajarlo más adelante.\n",
        "# set_to_cure.to_stata('galleta.dta')\n",
        "set_to_cure.to_csv('cured_data_obesity.csv')\n",
        "files.download(\"cured_data_obesity.csv\")"
      ],
      "execution_count": null,
      "outputs": [
        {
          "output_type": "display_data",
          "data": {
            "application/javascript": [
              "\n",
              "    async function download(id, filename, size) {\n",
              "      if (!google.colab.kernel.accessAllowed) {\n",
              "        return;\n",
              "      }\n",
              "      const div = document.createElement('div');\n",
              "      const label = document.createElement('label');\n",
              "      label.textContent = `Downloading \"${filename}\": `;\n",
              "      div.appendChild(label);\n",
              "      const progress = document.createElement('progress');\n",
              "      progress.max = size;\n",
              "      div.appendChild(progress);\n",
              "      document.body.appendChild(div);\n",
              "\n",
              "      const buffers = [];\n",
              "      let downloaded = 0;\n",
              "\n",
              "      const channel = await google.colab.kernel.comms.open(id);\n",
              "      // Send a message to notify the kernel that we're ready.\n",
              "      channel.send({})\n",
              "\n",
              "      for await (const message of channel.messages) {\n",
              "        // Send a message to notify the kernel that we're ready.\n",
              "        channel.send({})\n",
              "        if (message.buffers) {\n",
              "          for (const buffer of message.buffers) {\n",
              "            buffers.push(buffer);\n",
              "            downloaded += buffer.byteLength;\n",
              "            progress.value = downloaded;\n",
              "          }\n",
              "        }\n",
              "      }\n",
              "      const blob = new Blob(buffers, {type: 'application/binary'});\n",
              "      const a = document.createElement('a');\n",
              "      a.href = window.URL.createObjectURL(blob);\n",
              "      a.download = filename;\n",
              "      div.appendChild(a);\n",
              "      a.click();\n",
              "      div.remove();\n",
              "    }\n",
              "  "
            ],
            "text/plain": [
              "<IPython.core.display.Javascript object>"
            ]
          },
          "metadata": {
            "tags": []
          }
        },
        {
          "output_type": "display_data",
          "data": {
            "application/javascript": [
              "download(\"download_6a4f5a41-2ca6-41af-b43b-f8b12fbe7db3\", \"cured_data_obesity.csv\", 5177420)"
            ],
            "text/plain": [
              "<IPython.core.display.Javascript object>"
            ]
          },
          "metadata": {
            "tags": []
          }
        }
      ]
    }
  ]
}