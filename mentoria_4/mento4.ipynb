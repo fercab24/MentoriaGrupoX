{
  "nbformat": 4,
  "nbformat_minor": 0,
  "metadata": {
    "colab": {
      "name": "t4_mentoria.ipynb",
      "provenance": [],
      "collapsed_sections": []
    },
    "kernelspec": {
      "display_name": "Python 3",
      "language": "python",
      "name": "python3"
    },
    "language_info": {
      "codemirror_mode": {
        "name": "ipython",
        "version": 3
      },
      "file_extension": ".py",
      "mimetype": "text/x-python",
      "name": "python",
      "nbconvert_exporter": "python",
      "pygments_lexer": "ipython3",
      "version": "3.7.1"
    }
  },
  "cells": [
    {
      "cell_type": "markdown",
      "metadata": {
        "id": "M-nQGofxOA8S"
      },
      "source": [
        "#Bienvenidos a la mentoría: \n",
        "##\"Ciencia de datos aplicada al estudio de la Obesidad y otras enfermedades crónicas en Córdoba.\"\n"
      ]
    },
    {
      "cell_type": "markdown",
      "metadata": {
        "id": "LN5r00zhhL5d"
      },
      "source": [
        "##### Como primer objetivo proponemos acercarnos a la temática propuesta presentando una breve introducción de la misma y sus posibles determinantes.\n"
      ]
    },
    {
      "cell_type": "markdown",
      "metadata": {
        "id": "N5gkuPZ4OHbp"
      },
      "source": [
        "##Descripción del problema\n",
        "La obesidad es una enfermedad crónica multicausal de alta prevalencia en el mundo y Argentina. La misma se encuentra en constante aumento y en Córdoba son más del 50% las personas que presentan exceso de peso, y un 25% del total obesidad. Si bien se piensa que los principales factores que influyen en su desarrollo, son un nivel de actividad física inadecuado, el sedentarismo y una alimentación poco saludable, pueden existir otros determinantes de esta condición que deban ser considerados. Sin embargo, muchas veces es difícil contar con todos estos datos y analizarlos de manera conjunta  o considerando su efecto sinérgico.\n",
        "Por otra parte, al conocer los aspectos que más influyen en la ocurrencia de esta enfermedad se podría abordar de manera integral y ofrecer a la población información, realizar recomendaciones y utilizar estos resultados para implementar políticas públicas para enfrentar la pandemia de la obesidad.\n",
        "Así, en esta mentoría ponemos a disposición un dataset que tiene una numerosa variedad de features las cuales permitirán poder seleccionar aquellos que sean los mejores predictores para la enfermedad. También identificar patrones de alimentación y subgrupos de sujetos que compartan ciertas características, y de esta forma descubrir nuevos insights para desarrollar.   \n",
        "Además, resulta interesante desarrollar metodologías para analizar y describir este problema, las que pueden ser replicadas en otros de las Ciencias de la salud y en el que se utilicen principalmente las herramientas que la Ciencia de Datos provee.\n",
        "Esperamos que en esta mentoría puedas desarrollar y aplicar todas las herramientas y skills aprendidas durante el cursado de la diplomatura. Te proponemos objetivos específicos para la resolución de cada práctico poniendo en juego tus conocimientos y creatividad, y quién te dice encontras tu lado Abby Sciuto/John Snow. \n"
      ]
    },
    {
      "cell_type": "markdown",
      "metadata": {
        "id": "KzsI1LyHONx4"
      },
      "source": [
        "##Motivación\n",
        "❖\t¿Cuáles son las principales características de la población de Córdoba en cuanto a sus determinantes bio-socio-económicos?\n",
        "\n",
        "❖\t¿Es la obesidad una enfermedad que depende meramente de la alimentación de los sujetos?\n",
        "\n",
        "❖\t¿Cuáles son los factores alimentarios que promueven el desarrollo de la enfermedad?¿Y cuáles son aquellos que protegen?\n",
        "\n",
        "❖\t¿Se encuentra la obesidad asociada a la enfermedad cardiovascular?¿y al cáncer?\n",
        "\n",
        "❖\t¿Qué variables ayudarían a predecir el estado nutricional de un sujeto de la población de Córdoba?\n",
        "\n",
        "❖\t¿Cuáles son las características más visibles de los grupos según su estado nutricional?¿Existen características comunes que nos permitan predecir el estado nutricional que tendrá una persona?\n",
        "\n",
        "❖\t¿Existe algún patrón alimentario característico por grupos según la presencia o no de obesidad?\n",
        "\n",
        "\n"
      ]
    },
    {
      "cell_type": "markdown",
      "metadata": {
        "id": "tFkXu9PjWgtf"
      },
      "source": [
        "\n",
        "\n",
        "# **Práctico N°4**           **Aprendizaje Supervisado**"
      ]
    },
    {
      "cell_type": "markdown",
      "metadata": {
        "id": "l6dsCC0tg7aT"
      },
      "source": [
        "## Objetivo y alcance\n",
        "\n",
        "\n"
      ]
    },
    {
      "cell_type": "markdown",
      "metadata": {
        "id": "aM9VAmMT4WiY"
      },
      "source": [
        "A partir del práctico anterior, el cual fue un primer acercamiento al proceso de aprendizaje automático, trabajaremos exclusivamente en el aprendizaje supervisado. Anteriormente han trabajado prediciendo la \"obesidad\" pero ahora cambiaremos la variable respuesta y pondremos atención en los algoritmos y técnicas.\n",
        "Nos enfocaremos en el proceso de: selección de un modelo, ajuste de hiperparámetros y evaluación, regulador, métricas, similar a lo hecho previamente.\n",
        "En este laboratorio no se espera que se encuentre el mejor modelo con sus mejores parámetros, sino que se logre la buena práctica de realizar los pasos necesarios en un proceso de aprendizaje automático, desde la división del dataset hasta la evaluación del modelo, además de aplicar las sugerencias o cambios recomendados en la devolución del lab 3. Por ello podemos decir que el objetivo del práctico es indagar entre los diferentes modelos de aprendizaje supervisado vistos en la materia y comparar el desempeño obtenido. Para realizar el práctico vamos a utilizar el dataset generado en el lab 2 y luego, a partir de lo realizado en el práctico de introducción al aprendizaje automático, cambiar y probar otros modelos vistos en esta materia y comparar los resultados a partir de la métrica seleccionada(la/s misma/s para los diferentes modelos). \n",
        "\n",
        "\n",
        "### **La necesidad es la siguiente:**\n",
        "\n",
        "1.   Poder predecir de forma automática la presencia de HTA en toda la población. Trabajaremos con la variable \"HTA\" dado que tiene en cuenta no sólo la declaración de hipertensión por la persona, sino que también si consumen medicación para la misma o al tomar la tensión dió elevada.\n",
        "2.   Poder predecir de forma automática la presencia de HTA en mujeres (grupo 1: Martin, Fer y Memi) y en hombres (grupo 2: Nico, Fer y Edgardo).\n",
        "3. Poder determinar cuales son las variables que son consideradas factores de riesgo para presentar HTA, tanto para toda la población como discriminando por sexos (cada grupo lo hace para el sexo que les haya tocado).\n",
        "\n",
        "### **Para ello se debe:**\n",
        "\n",
        "* Cargar los datos, separando del dataset la etiqueta a predecir.\n",
        "* Dividir el dataset en el conjunto de entrenamiento y conjunto de test\n",
        "*   Analizar y justificar que features se utilizarán para lograr la mejor predicción.\n",
        "*   Elegir un modelo de clasificación clásico (por cada requerimiento). El que Uds. se sientan más cómodos, pero también justificando conceptualmente la elección del mismo. Y por otro lado, realizar otro modelo utilizando una técnica de ensemble (bagging, boosting) también justificando la elección del mismo.\n",
        "*   Entrenar y evaluar los modelos, fijando la semilla aleatoria para hacer repetible el experimento.\n",
        "*   En cuanto a los hiper-parámetros:\n",
        "\n",
        "        1.   Probar primero con los default y elegir alguna/s métrica/s para reportar los resultados. \n",
        "        2.   Luego usar grid-search y 5-fold cross-validation para explorar muchas combinaciones posibles de valores, reportando  accuracy promedio y varianza para todas las configuraciones.\n",
        "\n",
        "*   Para la mejor configuración encontrada, evaluar sobre el conjunto de entrenamiento y sobre el conjunto de evaluación, reportando:\n",
        "        *   Accuracy\n",
        "        *   Precision\n",
        "        *   Recall\n",
        "        *   F1\n",
        "        *   Matriz de confusión\n",
        "\n",
        "### Se evaluarán los siguientes aspectos:\n",
        "  ***1-*** Que se apliquen los conceptos vistos con los profes en el teórico y en el práctico.\n",
        "\n",
        "  ***2-*** Que el entregable no sea solo la notebook. El informe debe tener un mensaje claro y debe presentarse en un formato legible para cualquier tipo de stakeholder.\n",
        "\n",
        "  ***3-*** Capacidad de análisis.\n",
        "\n",
        "  ***4-*** Criterio para elegir que solución aplicar en cada caso y con qué método implementarla.\n",
        "\n",
        "##Recuerden que las clases a clasificar están desbalanceadas.\n",
        "\n",
        "  \n",
        "## Deadline pautado para la entrega: Lunes 13/09/2020"
      ]
    },
    {
      "cell_type": "markdown",
      "metadata": {
        "id": "N2uW9UYDWspO"
      },
      "source": [
        "\n",
        "\n",
        "\n",
        "## Estructura del informe\n",
        "El informe debe estar en un formato que no sea Jupyter Notebook, por ejemplo .html, .pdf, .md. El objetivo es poder redactar y justificar las conclusiones obtenidas a partir de las preguntas disparadoras, utilizando material gráfico y/o interactivo como soporte para complementar las ideas. \n",
        "Además, se debe presentar o enviar la notebook en donde se trabajó (jupyter notebook, colab notebook, etc).  \n",
        "\n",
        "###Se evaluarán los siguientes aspectos:\n",
        "Que se apliquen los conceptos vistos en el dictado de la materia.\n",
        "\n",
        "El informe debe tener un mensaje claro y debe presentarse en un formato legible para cualquier tipo de stakeholder.\n",
        "\n",
        "Que los cálculos estadísticos sean utilizados solo como herramientas para responder a las consignas.\n",
        "\n",
        "Indicar el criterio aplicado al momento de elegir las variables a analizar.\n"
      ]
    },
    {
      "cell_type": "markdown",
      "metadata": {
        "id": "cwAsRLXo9XJY"
      },
      "source": [
        "#### HTA == 1: sin hipertensión\n",
        "#### HTA == 2: con hipertensión\n",
        "\n",
        "#### sexo == 0: mujeres\n",
        "#### sexo == 1 hombres"
      ]
    },
    {
      "cell_type": "code",
      "metadata": {
        "id": "HzJ4l-qbpY1x"
      },
      "source": [
        "from sklearn.metrics            import (accuracy_score, \n",
        "                                       precision_score,\n",
        "                                       recall_score, \n",
        "                                       f1_score, \n",
        "                                       confusion_matrix)\n",
        "from sklearn.model_selection    import train_test_split\n",
        "import numpy as np\n",
        "import pandas as pd\n",
        "from sklearn.tree               import DecisionTreeClassifier\n",
        "from sklearn.dummy              import DummyClassifier\n",
        "from sklearn.naive_bayes        import MultinomialNB\n",
        "from sklearn.linear_model       import SGDClassifier\n",
        "from sklearn.ensemble           import RandomForestClassifier, VotingClassifier, GradientBoostingClassifier\n",
        "from sklearn.neighbors          import KNeighborsClassifier\n",
        "from sklearn.linear_model       import Perceptron\n",
        "from sklearn.model_selection    import GridSearchCV, RandomizedSearchCV"
      ],
      "execution_count": null,
      "outputs": []
    },
    {
      "cell_type": "code",
      "metadata": {
        "id": "35_9hXq99XJe"
      },
      "source": [
        "def print_grid_results(df, dict, rows=5):\n",
        "  df = df.sort_values(by='rank_test_score').head(rows)\n",
        "  param = ['rank_test_score', 'mean_test_score']\n",
        "  for i in dict.keys():\n",
        "    param.append('param_'+str(i))\n",
        "  new_df = df.loc[:, param]\n",
        "  return new_df"
      ],
      "execution_count": null,
      "outputs": []
    },
    {
      "cell_type": "code",
      "metadata": {
        "id": "A0lsBEGn9XJg"
      },
      "source": [
        "def print_metrics(y_real, y_pred):\n",
        "    accuracy = accuracy_score(y_real, y_pred)\n",
        "    precision = precision_score(y_real, y_pred)\n",
        "    recall = recall_score(y_real, y_pred)\n",
        "    f1 = f1_score(y_real, y_pred)\n",
        "    confusion = confusion_matrix(y_real, y_pred)\n",
        "\n",
        "    print('accuracy: ', accuracy)\n",
        "    print('precision: ', precision)\n",
        "    print('recall :', recall)\n",
        "    print('f1_score :', f1)\n",
        "    print('matriz de confusión: \\n',confusion)"
      ],
      "execution_count": null,
      "outputs": []
    },
    {
      "cell_type": "code",
      "metadata": {
        "id": "IX2MBOrI9zsm",
        "outputId": "52b0f60d-733c-4e70-d556-b882b376a319",
        "colab": {
          "resources": {
            "http://localhost:8080/nbextensions/google.colab/files.js": {
              "data": "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",
              "ok": true,
              "headers": [
                [
                  "content-type",
                  "application/javascript"
                ]
              ],
              "status": 200,
              "status_text": ""
            }
          },
          "base_uri": "https://localhost:8080/",
          "height": 72
        }
      },
      "source": [
        "from   google.colab      import files\n",
        "encuestas = files.upload()"
      ],
      "execution_count": null,
      "outputs": [
        {
          "output_type": "display_data",
          "data": {
            "text/html": [
              "\n",
              "     <input type=\"file\" id=\"files-c3be9ee1-c5de-4dba-a662-b0a3de6d0625\" name=\"files[]\" multiple disabled\n",
              "        style=\"border:none\" />\n",
              "     <output id=\"result-c3be9ee1-c5de-4dba-a662-b0a3de6d0625\">\n",
              "      Upload widget is only available when the cell has been executed in the\n",
              "      current browser session. Please rerun this cell to enable.\n",
              "      </output>\n",
              "      <script src=\"/nbextensions/google.colab/files.js\"></script> "
            ],
            "text/plain": [
              "<IPython.core.display.HTML object>"
            ]
          },
          "metadata": {
            "tags": []
          }
        },
        {
          "output_type": "stream",
          "text": [
            "Saving cured_data_obesity.csv to cured_data_obesity.csv\n"
          ],
          "name": "stdout"
        }
      ]
    },
    {
      "cell_type": "code",
      "metadata": {
        "id": "jf5x38b19XJj"
      },
      "source": [
        "df = pd.read_csv('cured_data_obesity.csv')"
      ],
      "execution_count": null,
      "outputs": []
    },
    {
      "cell_type": "code",
      "metadata": {
        "id": "fw6HvoTT9XJl"
      },
      "source": [
        "# Generamos un vector para separar las features que vamos a utilizar en la predicción\n",
        "# junto con la variable target (HTA) y sexo\n",
        "hta_features = ['HTA'    , 'sexo'   , 'edad'   , 'dbt'     , 'tipo1'  , 'tipo2' ,\n",
        "               'tratadbt',  'dlp'   , 'cc'     , 'actfis'  , 'nombre' , 'act'   ,\n",
        "               'fve1'    , 'fve2'   , 'fgr1'   , 'fgs1'    , 'fgs2'   , 'fgp1'  , \n",
        "               'fgm1'    , 'fgm2'   , 'fcol1'  , 'fcol2'   , 'fgp2'   , 'mets'  ,\n",
        "               'fuma'    , 'durac'  , 'stress'                                  ]"
      ],
      "execution_count": null,
      "outputs": []
    },
    {
      "cell_type": "code",
      "metadata": {
        "id": "5w6tln_Y9XJs"
      },
      "source": [
        "# separamos las observaciones que se van a utilizar\n",
        "# para la predicción (X) y la variable target HTA (y)\n",
        "\n",
        "df = df[hta_features]\n",
        "df = df.dropna()\n",
        "\n",
        "X_mujeres  = df[df.sexo == 0].drop('HTA', axis=1)\n",
        "y_mujeres  = df[df.sexo == 0].HTA\n",
        "\n",
        "X_todos    = df.drop('HTA', axis=1)\n",
        "y_todos    = df.HTA"
      ],
      "execution_count": null,
      "outputs": []
    },
    {
      "cell_type": "code",
      "metadata": {
        "id": "CONQA8eM9XJw"
      },
      "source": [
        "# separamos el 20% de los datos para el conjunto test\n",
        "X_mujeres_train , X_mujeres_test , y_mujeres_train , y_mujeres_test = train_test_split(X_mujeres , y_mujeres , test_size=0.2 , random_state=5)\n",
        "X_todos_train   , X_todos_test   , y_todos_train   , y_todos_test   = train_test_split(X_todos   , y_todos   , test_size=0.2 , random_state=5)"
      ],
      "execution_count": null,
      "outputs": []
    },
    {
      "cell_type": "code",
      "metadata": {
        "id": "0IJJp-W89XJ0"
      },
      "source": [
        "random_state  = 5\n",
        "dict_models   =  {'DecisionTreeClassifier' : DecisionTreeClassifier(random_state=random_state),\n",
        "                  'KNeighborsClassifier'   : KNeighborsClassifier(),\n",
        "                  'SGDClassifier'          : SGDClassifier(random_state=random_state),\n",
        "                  'Perceptron'             : Perceptron(),\n",
        "                  'MultinomialNB'          : MultinomialNB(),\n",
        "                  'Dummy_frequent'         : DummyClassifier(strategy='most_frequent'),\n",
        "                  'Dummy_stratified'       : DummyClassifier(strategy= 'stratified', random_state=random_state),\n",
        "                  'RandomForestClassifier' : RandomForestClassifier(random_state=random_state)\n",
        "                 }"
      ],
      "execution_count": null,
      "outputs": []
    },
    {
      "cell_type": "code",
      "metadata": {
        "id": "SpMTMen69XJ2",
        "outputId": "d1aedda2-cfee-470e-9033-afd68b579fe1",
        "colab": {
          "base_uri": "https://localhost:8080/",
          "height": 1000
        }
      },
      "source": [
        "# probamos con algunos modelos con valores por defecto\n",
        "dict_acc = {}\n",
        "c = 0\n",
        "for i in dict_models.keys():\n",
        "  model =       dict_models[i]\n",
        "  model.fit(X_mujeres_train, y_mujeres_train)\n",
        "  y_pred =      model.predict(X_mujeres_test)\n",
        "  dict_acc[i] = accuracy_score(y_mujeres_test, y_pred)\n",
        "  print('****** ' + str(i) + ' ******') \n",
        "  print_metrics(y_mujeres_test, y_pred)\n",
        "  print('\\n')\n",
        "  c += 1"
      ],
      "execution_count": null,
      "outputs": [
        {
          "output_type": "stream",
          "text": [
            "****** DecisionTreeClassifier ******\n",
            "accuracy:  0.6794871794871795\n",
            "precision:  0.7896440129449838\n",
            "recall : 0.7416413373860182\n",
            "f1_score : 0.7648902821316613\n",
            "matriz de confusión: \n",
            " [[244  85]\n",
            " [ 65  74]]\n",
            "\n",
            "\n",
            "****** KNeighborsClassifier ******\n",
            "accuracy:  0.6602564102564102\n",
            "precision:  0.7225130890052356\n",
            "recall : 0.8389057750759878\n",
            "f1_score : 0.7763713080168776\n",
            "matriz de confusión: \n",
            " [[276  53]\n",
            " [106  33]]\n",
            "\n",
            "\n",
            "****** SGDClassifier ******\n",
            "accuracy:  0.7094017094017094\n",
            "precision:  0.7093275488069414\n",
            "recall : 0.993920972644377\n",
            "f1_score : 0.8278481012658226\n",
            "matriz de confusión: \n",
            " [[327   2]\n",
            " [134   5]]\n",
            "\n",
            "\n",
            "****** Perceptron ******\n",
            "accuracy:  0.6987179487179487\n",
            "precision:  0.7136363636363636\n",
            "recall : 0.9544072948328267\n",
            "f1_score : 0.8166449934980494\n",
            "matriz de confusión: \n",
            " [[314  15]\n",
            " [126  13]]\n",
            "\n",
            "\n",
            "****** MultinomialNB ******\n",
            "accuracy:  0.4829059829059829\n",
            "precision:  0.7351351351351352\n",
            "recall : 0.4133738601823708\n",
            "f1_score : 0.5291828793774319\n",
            "matriz de confusión: \n",
            " [[136 193]\n",
            " [ 49  90]]\n",
            "\n",
            "\n",
            "****** Dummy_frequent ******\n",
            "accuracy:  0.7029914529914529\n",
            "precision:  0.7029914529914529\n",
            "recall : 1.0\n",
            "f1_score : 0.8255959849435383\n",
            "matriz de confusión: \n",
            " [[329   0]\n",
            " [139   0]]\n",
            "\n",
            "\n",
            "****** Dummy_stratified ******\n",
            "accuracy:  0.5790598290598291\n",
            "precision:  0.70625\n",
            "recall : 0.6869300911854104\n",
            "f1_score : 0.6964560862865947\n",
            "matriz de confusión: \n",
            " [[226 103]\n",
            " [ 94  45]]\n",
            "\n",
            "\n",
            "****** RandomForestClassifier ******\n",
            "accuracy:  0.7777777777777778\n",
            "precision:  0.8205128205128205\n",
            "recall : 0.8753799392097265\n",
            "f1_score : 0.8470588235294118\n",
            "matriz de confusión: \n",
            " [[288  41]\n",
            " [ 63  76]]\n",
            "\n",
            "\n"
          ],
          "name": "stdout"
        }
      ]
    },
    {
      "cell_type": "code",
      "metadata": {
        "id": "2yx_h-rvVmgb",
        "outputId": "6999864f-723b-4b27-9f0d-bd0ae9bfd722",
        "colab": {
          "base_uri": "https://localhost:8080/",
          "height": 1000
        }
      },
      "source": [
        "dict_acc = {}\n",
        "c = 0\n",
        "for i in dict_models.keys():\n",
        "  model =       dict_models[i]\n",
        "  model.fit(X_todos_train, y_todos_train)\n",
        "  y_pred =      model.predict(X_todos_test)\n",
        "  dict_acc[i] = accuracy_score(y_todos_test, y_pred)\n",
        "  print('****** ' + str(i) + ' ******') \n",
        "  print_metrics(y_todos_test, y_pred)\n",
        "  print('\\n')\n",
        "  c += 1"
      ],
      "execution_count": null,
      "outputs": [
        {
          "output_type": "stream",
          "text": [
            "****** DecisionTreeClassifier ******\n",
            "accuracy:  0.6573248407643312\n",
            "precision:  0.7549407114624506\n",
            "recall : 0.7248576850094877\n",
            "f1_score : 0.739593417231365\n",
            "matriz de confusión: \n",
            " [[382 145]\n",
            " [124 134]]\n",
            "\n",
            "\n",
            "****** KNeighborsClassifier ******\n",
            "accuracy:  0.643312101910828\n",
            "precision:  0.7054908485856906\n",
            "recall : 0.8045540796963947\n",
            "f1_score : 0.75177304964539\n",
            "matriz de confusión: \n",
            " [[424 103]\n",
            " [177  81]]\n",
            "\n",
            "\n",
            "****** SGDClassifier ******\n",
            "accuracy:  0.6764331210191082\n",
            "precision:  0.7034277198211625\n",
            "recall : 0.8956356736242884\n",
            "f1_score : 0.7879799666110184\n",
            "matriz de confusión: \n",
            " [[472  55]\n",
            " [199  59]]\n",
            "\n",
            "\n",
            "****** Perceptron ******\n",
            "accuracy:  0.7057324840764331\n",
            "precision:  0.7151162790697675\n",
            "recall : 0.9335863377609108\n",
            "f1_score : 0.8098765432098766\n",
            "matriz de confusión: \n",
            " [[492  35]\n",
            " [196  62]]\n",
            "\n",
            "\n",
            "****** MultinomialNB ******\n",
            "accuracy:  0.5337579617834395\n",
            "precision:  0.7766323024054983\n",
            "recall : 0.428842504743833\n",
            "f1_score : 0.5525672371638142\n",
            "matriz de confusión: \n",
            " [[226 301]\n",
            " [ 65 193]]\n",
            "\n",
            "\n",
            "****** Dummy_frequent ******\n",
            "accuracy:  0.6713375796178344\n",
            "precision:  0.6713375796178344\n",
            "recall : 1.0\n",
            "f1_score : 0.8033536585365852\n",
            "matriz de confusión: \n",
            " [[527   0]\n",
            " [258   0]]\n",
            "\n",
            "\n",
            "****** Dummy_stratified ******\n",
            "accuracy:  0.5592356687898089\n",
            "precision:  0.6697936210131332\n",
            "recall : 0.6774193548387096\n",
            "f1_score : 0.6735849056603774\n",
            "matriz de confusión: \n",
            " [[357 170]\n",
            " [176  82]]\n",
            "\n",
            "\n",
            "****** RandomForestClassifier ******\n",
            "accuracy:  0.710828025477707\n",
            "precision:  0.759515570934256\n",
            "recall : 0.8330170777988615\n",
            "f1_score : 0.7945701357466063\n",
            "matriz de confusión: \n",
            " [[439  88]\n",
            " [139 119]]\n",
            "\n",
            "\n"
          ],
          "name": "stdout"
        }
      ]
    },
    {
      "cell_type": "code",
      "metadata": {
        "id": "4Eq0EjL99XJ7"
      },
      "source": [
        "dict_tree = {'criterion':             ['gini', 'entropy'],\n",
        "             'min_samples_split':     [2, 10, 50, 100, 200, 500],\n",
        "             'max_features':          [None, 'auto', 'sqrt', 'log2'],\n",
        "            }\n",
        "\n",
        "model =     DecisionTreeClassifier(random_state=10)\n",
        "clf =       RandomizedSearchCV(model, dict_tree, scoring='accuracy')\n",
        "search =    clf.fit(X_mujeres_train, y_mujeres_train)\n",
        "search_df = pd.DataFrame(search.cv_results_)"
      ],
      "execution_count": null,
      "outputs": []
    },
    {
      "cell_type": "code",
      "metadata": {
        "id": "qimcn8KY9XJ9",
        "outputId": "a89f0829-c431-4ec3-f8f3-5904156ab552",
        "colab": {
          "base_uri": "https://localhost:8080/",
          "height": 204
        }
      },
      "source": [
        "print_grid_results(search_df, dict_tree)"
      ],
      "execution_count": null,
      "outputs": [
        {
          "output_type": "execute_result",
          "data": {
            "text/html": [
              "<div>\n",
              "<style scoped>\n",
              "    .dataframe tbody tr th:only-of-type {\n",
              "        vertical-align: middle;\n",
              "    }\n",
              "\n",
              "    .dataframe tbody tr th {\n",
              "        vertical-align: top;\n",
              "    }\n",
              "\n",
              "    .dataframe thead th {\n",
              "        text-align: right;\n",
              "    }\n",
              "</style>\n",
              "<table border=\"1\" class=\"dataframe\">\n",
              "  <thead>\n",
              "    <tr style=\"text-align: right;\">\n",
              "      <th></th>\n",
              "      <th>rank_test_score</th>\n",
              "      <th>mean_test_score</th>\n",
              "      <th>param_criterion</th>\n",
              "      <th>param_min_samples_split</th>\n",
              "      <th>param_max_features</th>\n",
              "    </tr>\n",
              "  </thead>\n",
              "  <tbody>\n",
              "    <tr>\n",
              "      <th>3</th>\n",
              "      <td>1</td>\n",
              "      <td>0.733006</td>\n",
              "      <td>gini</td>\n",
              "      <td>200</td>\n",
              "      <td>None</td>\n",
              "    </tr>\n",
              "    <tr>\n",
              "      <th>5</th>\n",
              "      <td>2</td>\n",
              "      <td>0.723369</td>\n",
              "      <td>entropy</td>\n",
              "      <td>50</td>\n",
              "      <td>None</td>\n",
              "    </tr>\n",
              "    <tr>\n",
              "      <th>9</th>\n",
              "      <td>3</td>\n",
              "      <td>0.715349</td>\n",
              "      <td>entropy</td>\n",
              "      <td>50</td>\n",
              "      <td>auto</td>\n",
              "    </tr>\n",
              "    <tr>\n",
              "      <th>6</th>\n",
              "      <td>4</td>\n",
              "      <td>0.705717</td>\n",
              "      <td>gini</td>\n",
              "      <td>500</td>\n",
              "      <td>sqrt</td>\n",
              "    </tr>\n",
              "    <tr>\n",
              "      <th>4</th>\n",
              "      <td>5</td>\n",
              "      <td>0.703039</td>\n",
              "      <td>gini</td>\n",
              "      <td>500</td>\n",
              "      <td>log2</td>\n",
              "    </tr>\n",
              "  </tbody>\n",
              "</table>\n",
              "</div>"
            ],
            "text/plain": [
              "   rank_test_score  mean_test_score  ... param_min_samples_split param_max_features\n",
              "3                1         0.733006  ...                     200               None\n",
              "5                2         0.723369  ...                      50               None\n",
              "9                3         0.715349  ...                      50               auto\n",
              "6                4         0.705717  ...                     500               sqrt\n",
              "4                5         0.703039  ...                     500               log2\n",
              "\n",
              "[5 rows x 5 columns]"
            ]
          },
          "metadata": {
            "tags": []
          },
          "execution_count": 13
        }
      ]
    },
    {
      "cell_type": "code",
      "metadata": {
        "id": "dFY-qYDL9XJ_",
        "outputId": "de61b130-2ceb-46c7-bbfa-4d7dbdd7f8a5",
        "colab": {
          "base_uri": "https://localhost:8080/",
          "height": 136
        }
      },
      "source": [
        "model = DecisionTreeClassifier(criterion='entropy', min_samples_split=100,\n",
        "                               max_features=None, random_state=10)\n",
        "clf_tree = model.fit(X_mujeres_train, y_mujeres_train)\n",
        "y_pred = clf_tree.predict(X_mujeres_test)\n",
        "print_metrics(y_mujeres_test, y_pred)"
      ],
      "execution_count": null,
      "outputs": [
        {
          "output_type": "stream",
          "text": [
            "accuracy:  0.7478632478632479\n",
            "precision:  0.8093841642228738\n",
            "recall : 0.8389057750759878\n",
            "f1_score : 0.8238805970149254\n",
            "matriz de confusión: \n",
            " [[276  53]\n",
            " [ 65  74]]\n"
          ],
          "name": "stdout"
        }
      ]
    },
    {
      "cell_type": "code",
      "metadata": {
        "id": "22M3GKh59XKK",
        "outputId": "dc4cbb31-1522-49a8-ef02-90ed73f2bcb4",
        "colab": {
          "base_uri": "https://localhost:8080/",
          "height": 238
        }
      },
      "source": [
        "# Desicion Tree para mujeres\n",
        "param_map = { 'criterion'        : ['gini','entropy'],\n",
        "              'splitter'         : ['best','random'],\n",
        "              'max_depth'        : list(range(2, 40, 1)) + [None],\n",
        "              'min_samples_leaf' : range(1,40, 2),\n",
        "              'min_samples_split': [2, 10, 50, 100, 200, 500],\n",
        "              'max_features'     : [None,'auto','sqrt','log2'] \n",
        "}\n",
        "\n",
        "DTclassifier  = DecisionTreeClassifier(random_state = 0)\n",
        "\n",
        "grid_search = GridSearchCV(DTclassifier, param_map, n_jobs=-1, scoring = 'accuracy', cv= None) # By default it uses 5 fold validation\n",
        "grid_search.fit(X_mujeres_train, y_mujeres_train)\n",
        "\n",
        "best_model = grid_search.best_estimator_\n",
        "print(best_model)\n",
        "\n",
        "DTclassifier = best_model.fit(X_mujeres_train, y_mujeres_train)\n",
        "y_mujeres_pred = best_model.predict(X_mujeres_test)\n",
        "print_metrics(y_mujeres_test, y_mujeres_pred)"
      ],
      "execution_count": null,
      "outputs": [
        {
          "output_type": "stream",
          "text": [
            "DecisionTreeClassifier(ccp_alpha=0.0, class_weight=None, criterion='gini',\n",
            "                       max_depth=6, max_features=None, max_leaf_nodes=None,\n",
            "                       min_impurity_decrease=0.0, min_impurity_split=None,\n",
            "                       min_samples_leaf=17, min_samples_split=100,\n",
            "                       min_weight_fraction_leaf=0.0, presort='deprecated',\n",
            "                       random_state=0, splitter='random')\n",
            "accuracy:  0.7414529914529915\n",
            "precision:  0.8270440251572327\n",
            "recall : 0.7993920972644377\n",
            "f1_score : 0.8129829984544049\n",
            "matriz de confusión: \n",
            " [[263  66]\n",
            " [ 55  84]]\n"
          ],
          "name": "stdout"
        }
      ]
    },
    {
      "cell_type": "code",
      "metadata": {
        "id": "HoNjDPE33XmS",
        "outputId": "2060ade6-a4f4-40a2-c138-5bbfb077dae0",
        "colab": {
          "base_uri": "https://localhost:8080/",
          "height": 374
        }
      },
      "source": [
        "# Clasificador gradiente para mujeres \n",
        "gradient = SGDClassifier(random_state=5)\n",
        "\n",
        "gradient.fit(X_mujeres_train, y_mujeres_train)\n",
        "y_pred = gradient.predict(X_mujeres_test)\n",
        "print_metrics(y_mujeres_test, y_pred)\n",
        "\n",
        "gradient_param_map  = { 'loss'          : ['hinge', 'log', 'squared_hinge'] ,\n",
        "                        'penalty'       : ['l2','l1','elasticnet']          ,\n",
        "                        'warm_start'    : [True,False]                      ,\n",
        "                        'alpha'         : [0.00001, 0.000001, 0.0000001]    ,\n",
        "                        'average'       : [True, False]\n",
        "                    }\n",
        "\n",
        "gradient = SGDClassifier(random_state=5)\n",
        "gradient_grid_search = GridSearchCV(gradient, gradient_param_map, scoring='accuracy', n_jobs = 4)\n",
        "gradient_grid_search.fit(X_mujeres_train, y_mujeres_train)\n",
        "best_clf = gradient_grid_search.best_estimator_\n",
        "print(best_clf)\n",
        "SGD_mujeres = best_clf.fit(X_mujeres_train, y_mujeres_train)\n",
        "y_pred = best_clf.predict(X_mujeres_test)\n",
        "print (\"Resultado gradiente de mujeres\")\n",
        "print_metrics(y_mujeres_test, y_pred)"
      ],
      "execution_count": null,
      "outputs": [
        {
          "output_type": "stream",
          "text": [
            "accuracy:  0.7094017094017094\n",
            "precision:  0.7093275488069414\n",
            "recall : 0.993920972644377\n",
            "f1_score : 0.8278481012658226\n",
            "matriz de confusión: \n",
            " [[327   2]\n",
            " [134   5]]\n",
            "SGDClassifier(alpha=1e-06, average=True, class_weight=None,\n",
            "              early_stopping=False, epsilon=0.1, eta0=0.0, fit_intercept=True,\n",
            "              l1_ratio=0.15, learning_rate='optimal', loss='log', max_iter=1000,\n",
            "              n_iter_no_change=5, n_jobs=None, penalty='l1', power_t=0.5,\n",
            "              random_state=5, shuffle=True, tol=0.001, validation_fraction=0.1,\n",
            "              verbose=0, warm_start=True)\n",
            "Resultado gradiente de mujeres\n",
            "accuracy:  0.7606837606837606\n",
            "precision:  0.7908847184986595\n",
            "recall : 0.8966565349544073\n",
            "f1_score : 0.8404558404558403\n",
            "matriz de confusión: \n",
            " [[295  34]\n",
            " [ 78  61]]\n"
          ],
          "name": "stdout"
        }
      ]
    },
    {
      "cell_type": "code",
      "metadata": {
        "id": "L3YgSlAx3jlk",
        "outputId": "b30a092f-c2df-4c6e-ebed-2f58a1eadfa1",
        "colab": {
          "base_uri": "https://localhost:8080/",
          "height": 238
        }
      },
      "source": [
        "# Desicion tree todos\n",
        "param_mapTODOS = { 'criterion'        : ['gini','entropy'],\n",
        "              'splitter'         : ['best','random'],\n",
        "              'max_depth'        : list(range(2, 20, 1)) + [None],\n",
        "              'min_samples_leaf' : range(1,40, 2),\n",
        "              'min_samples_split':     [2, 10, 50, 100, 200, 500],\n",
        "              'max_features'     : [None,'auto','sqrt','log2'] \n",
        "}\n",
        "\n",
        "DTclassifierTODOS  = DecisionTreeClassifier(random_state = 0)\n",
        "\n",
        "grid_search = GridSearchCV(DTclassifierTODOS, param_mapTODOS, n_jobs=-1, scoring = 'accuracy', cv= None) # By default it uses 5 fold validation\n",
        "grid_search.fit(X_todos_train, y_todos_train)\n",
        "\n",
        "best_model = grid_search.best_estimator_\n",
        "print(best_model)\n",
        "\n",
        "DTclassifierTODOS = best_model.fit(X_todos_train, y_todos_train)\n",
        "y_todos_pred = best_model.predict(X_todos_test)\n",
        "print_metrics(y_todos_test, y_todos_pred)"
      ],
      "execution_count": null,
      "outputs": [
        {
          "output_type": "stream",
          "text": [
            "DecisionTreeClassifier(ccp_alpha=0.0, class_weight=None, criterion='gini',\n",
            "                       max_depth=5, max_features=None, max_leaf_nodes=None,\n",
            "                       min_impurity_decrease=0.0, min_impurity_split=None,\n",
            "                       min_samples_leaf=1, min_samples_split=2,\n",
            "                       min_weight_fraction_leaf=0.0, presort='deprecated',\n",
            "                       random_state=0, splitter='random')\n",
            "accuracy:  0.7044585987261146\n",
            "precision:  0.7757009345794392\n",
            "recall : 0.7874762808349146\n",
            "f1_score : 0.7815442561205272\n",
            "matriz de confusión: \n",
            " [[415 112]\n",
            " [120 138]]\n"
          ],
          "name": "stdout"
        }
      ]
    },
    {
      "cell_type": "code",
      "metadata": {
        "id": "GniCpX7U3mAN",
        "outputId": "8aee1876-ba43-46c8-d76e-83f671044474",
        "colab": {
          "base_uri": "https://localhost:8080/",
          "height": 374
        }
      },
      "source": [
        "# Clasificador gradiente para todos\n",
        "gradient = SGDClassifier(random_state=5)\n",
        "\n",
        "gradient.fit(X_todos_train, y_todos_train)\n",
        "y_pred = gradient.predict(X_todos_test)\n",
        "print_metrics(y_todos_test, y_pred)\n",
        "\n",
        "gradient_param_map  = { 'loss'          : ['hinge', 'log', 'squared_hinge'] ,\n",
        "                        'penalty'       : ['l2','l1','elasticnet']          ,\n",
        "                        'warm_start'    : [True,False]                      ,\n",
        "                        'alpha'         : [0.00001, 0.000001, 0.0000001]    ,\n",
        "                        'average'       : [True, False]\n",
        "                    }\n",
        "\n",
        "gradient = SGDClassifier(random_state=5)\n",
        "gradient_grid_search = GridSearchCV(gradient, gradient_param_map, scoring='accuracy', n_jobs = 4)\n",
        "gradient_grid_search.fit(X_todos_train, y_todos_train)\n",
        "best_clf = gradient_grid_search.best_estimator_\n",
        "print(best_clf)\n",
        "SGD_todos = best_clf.fit(X_todos_train, y_todos_train)\n",
        "y_pred = best_clf.predict(X_todos_test)\n",
        "print (\"Resultado gradiente de todos\")\n",
        "print_metrics(y_todos_test, y_pred)"
      ],
      "execution_count": null,
      "outputs": [
        {
          "output_type": "stream",
          "text": [
            "accuracy:  0.6764331210191082\n",
            "precision:  0.7034277198211625\n",
            "recall : 0.8956356736242884\n",
            "f1_score : 0.7879799666110184\n",
            "matriz de confusión: \n",
            " [[472  55]\n",
            " [199  59]]\n",
            "SGDClassifier(alpha=1e-06, average=True, class_weight=None,\n",
            "              early_stopping=False, epsilon=0.1, eta0=0.0, fit_intercept=True,\n",
            "              l1_ratio=0.15, learning_rate='optimal', loss='squared_hinge',\n",
            "              max_iter=1000, n_iter_no_change=5, n_jobs=None, penalty='l1',\n",
            "              power_t=0.5, random_state=5, shuffle=True, tol=0.001,\n",
            "              validation_fraction=0.1, verbose=0, warm_start=True)\n",
            "Resultado gradiente de todos\n",
            "accuracy:  0.7133757961783439\n",
            "precision:  0.745928338762215\n",
            "recall : 0.8690702087286527\n",
            "f1_score : 0.8028045574057844\n",
            "matriz de confusión: \n",
            " [[458  69]\n",
            " [156 102]]\n"
          ],
          "name": "stdout"
        }
      ]
    },
    {
      "cell_type": "code",
      "metadata": {
        "id": "EpELJm7G3z1e",
        "outputId": "514e6d38-0b90-4e15-dffa-a940cd26c50e",
        "colab": {
          "base_uri": "https://localhost:8080/",
          "height": 442
        }
      },
      "source": [
        "# Ahora pasamos los meta modelos.\n",
        "# Random forest para mujeres\n",
        "random_forest = RandomForestClassifier(random_state = 5)\n",
        "\n",
        "random_forest.fit(X_mujeres_train, y_mujeres_train)\n",
        "y_pred = random_forest.predict(X_mujeres_test)\n",
        "print_metrics(y_mujeres_test, y_pred)\n",
        "\n",
        "forest_param_map  = {   'n_estimators'      : [120, 125, 130]    ,\n",
        "                        'criterion'         : ['gini','entropy'] ,\n",
        "                        'warm_start'        : [True,False]       ,\n",
        "                        'max_depth'         : [20, 25, 30]       ,\n",
        "                        'min_samples_split' : [3, 4, 5]          ,\n",
        "                        'min_samples_leaf'  : [2, 3, 4]          ,\n",
        "                        'max_features'      : [None, 'auto','log2']\n",
        "                    }\n",
        "\n",
        "random_forest = RandomForestClassifier(random_state = 5)\n",
        "forest_grid_search = GridSearchCV(random_forest, forest_param_map, scoring='accuracy', n_jobs = 4)\n",
        "forest_grid_search.fit(X_mujeres_train, y_mujeres_train)\n",
        "best_clf = forest_grid_search.best_estimator_\n",
        "print(best_clf)\n",
        "RF_mujeres = best_clf.fit(X_mujeres_train, y_mujeres_train)\n",
        "y_pred = best_clf.predict(X_mujeres_test)\n",
        "print (\"Resultado arbol de mujeres\")\n",
        "print_metrics(y_mujeres_test, y_pred)"
      ],
      "execution_count": null,
      "outputs": [
        {
          "output_type": "stream",
          "text": [
            "accuracy:  0.7777777777777778\n",
            "precision:  0.8205128205128205\n",
            "recall : 0.8753799392097265\n",
            "f1_score : 0.8470588235294118\n",
            "matriz de confusión: \n",
            " [[288  41]\n",
            " [ 63  76]]\n",
            "RandomForestClassifier(bootstrap=True, ccp_alpha=0.0, class_weight=None,\n",
            "                       criterion='entropy', max_depth=20, max_features='auto',\n",
            "                       max_leaf_nodes=None, max_samples=None,\n",
            "                       min_impurity_decrease=0.0, min_impurity_split=None,\n",
            "                       min_samples_leaf=2, min_samples_split=3,\n",
            "                       min_weight_fraction_leaf=0.0, n_estimators=120,\n",
            "                       n_jobs=None, oob_score=False, random_state=5, verbose=0,\n",
            "                       warm_start=True)\n",
            "Resultado arbol de mujeres\n",
            "accuracy:  0.7735042735042735\n",
            "precision:  0.8140845070422535\n",
            "recall : 0.878419452887538\n",
            "f1_score : 0.8450292397660819\n",
            "matriz de confusión: \n",
            " [[289  40]\n",
            " [ 66  73]]\n"
          ],
          "name": "stdout"
        },
        {
          "output_type": "stream",
          "text": [
            "/usr/local/lib/python3.6/dist-packages/sklearn/ensemble/_forest.py:359: UserWarning: Warm-start fitting without increasing n_estimators does not fit new trees.\n",
            "  warn(\"Warm-start fitting without increasing n_estimators does not \"\n"
          ],
          "name": "stderr"
        }
      ]
    },
    {
      "cell_type": "code",
      "metadata": {
        "id": "FwuV6It142pR",
        "outputId": "571e1155-ce4c-4b6c-9aba-610a6d6b003a",
        "colab": {
          "base_uri": "https://localhost:8080/",
          "height": 442
        }
      },
      "source": [
        "# Random forest para todos\n",
        "random_forest = RandomForestClassifier(random_state = 5)\n",
        "\n",
        "random_forest.fit(X_todos_train, y_todos_train)\n",
        "y_pred = random_forest.predict(X_todos_test)\n",
        "print_metrics(y_todos_test, y_pred)\n",
        "\n",
        "forest_param_map  = {   'n_estimators'      : [120, 125, 130]    ,\n",
        "                        'criterion'         : ['gini','entropy'] ,\n",
        "                        'warm_start'        : [True,False]       ,\n",
        "                        'max_depth'         : [20, 25, 30]       ,\n",
        "                        'min_samples_split' : [3, 4, 5]          ,\n",
        "                        'min_samples_leaf'  : [2, 3, 4]          ,\n",
        "                        'max_features'      : [None, 'auto','log2']\n",
        "                    }\n",
        "\n",
        "random_forest = RandomForestClassifier(random_state = 5)\n",
        "forest_grid_search = GridSearchCV(random_forest, forest_param_map, scoring='accuracy', n_jobs = 4)\n",
        "forest_grid_search.fit(X_todos_train, y_todos_train)\n",
        "best_clf = forest_grid_search.best_estimator_\n",
        "print(best_clf)\n",
        "RF_todos = best_clf.fit(X_todos_train, y_todos_train)\n",
        "y_pred = best_clf.predict(X_todos_test)\n",
        "print (\"Resultado arbol de todos\")\n",
        "print_metrics(y_todos_test, y_pred)"
      ],
      "execution_count": null,
      "outputs": [
        {
          "output_type": "stream",
          "text": [
            "accuracy:  0.710828025477707\n",
            "precision:  0.759515570934256\n",
            "recall : 0.8330170777988615\n",
            "f1_score : 0.7945701357466063\n",
            "matriz de confusión: \n",
            " [[439  88]\n",
            " [139 119]]\n",
            "RandomForestClassifier(bootstrap=True, ccp_alpha=0.0, class_weight=None,\n",
            "                       criterion='entropy', max_depth=30, max_features='log2',\n",
            "                       max_leaf_nodes=None, max_samples=None,\n",
            "                       min_impurity_decrease=0.0, min_impurity_split=None,\n",
            "                       min_samples_leaf=2, min_samples_split=3,\n",
            "                       min_weight_fraction_leaf=0.0, n_estimators=130,\n",
            "                       n_jobs=None, oob_score=False, random_state=5, verbose=0,\n",
            "                       warm_start=True)\n",
            "Resultado arbol de todos\n",
            "accuracy:  0.7273885350318471\n",
            "precision:  0.7693631669535284\n",
            "recall : 0.8481973434535104\n",
            "f1_score : 0.8068592057761732\n",
            "matriz de confusión: \n",
            " [[447  80]\n",
            " [134 124]]\n"
          ],
          "name": "stdout"
        },
        {
          "output_type": "stream",
          "text": [
            "/usr/local/lib/python3.6/dist-packages/sklearn/ensemble/_forest.py:359: UserWarning: Warm-start fitting without increasing n_estimators does not fit new trees.\n",
            "  warn(\"Warm-start fitting without increasing n_estimators does not \"\n"
          ],
          "name": "stderr"
        }
      ]
    },
    {
      "cell_type": "code",
      "metadata": {
        "id": "LPKJOoPj5E1I",
        "outputId": "ba448b57-c7b9-4f25-8313-4113c877a926",
        "colab": {
          "base_uri": "https://localhost:8080/",
          "height": 136
        }
      },
      "source": [
        "# Ahora hacemos un voting classifier\n",
        "model = VotingClassifier(estimators=[('tree', DTclassifier),\n",
        "                                     ('forest', RF_mujeres),\n",
        "                                     ('gradient', SGD_mujeres)],\n",
        "                         voting='soft')\n",
        "clf_v = model.fit(X_mujeres_train, y_mujeres_train)\n",
        "y_pred = clf_v.predict(X_mujeres_test)\n",
        "print_metrics(y_mujeres_test, y_pred)"
      ],
      "execution_count": null,
      "outputs": [
        {
          "output_type": "stream",
          "text": [
            "accuracy:  0.7628205128205128\n",
            "precision:  0.7868421052631579\n",
            "recall : 0.9088145896656535\n",
            "f1_score : 0.8434414668547251\n",
            "matriz de confusión: \n",
            " [[299  30]\n",
            " [ 81  58]]\n"
          ],
          "name": "stdout"
        }
      ]
    },
    {
      "cell_type": "code",
      "metadata": {
        "id": "yG_GBm8Y6sVO",
        "outputId": "27f8e859-8b60-41ea-ccab-94c2eea32481",
        "colab": {
          "base_uri": "https://localhost:8080/",
          "height": 136
        }
      },
      "source": [
        "# Ahora hacemos un voting classifier\n",
        "model = VotingClassifier(estimators=[('tree', DTclassifierTODOS),\n",
        "                                     ('forest', RF_todos),\n",
        "                                     ('gradient', SGD_mujeres)],\n",
        "                         voting='soft')\n",
        "clf_v = model.fit(X_todos_train, y_todos_train)\n",
        "y_pred = clf_v.predict(X_todos_test)\n",
        "print_metrics(y_todos_test, y_pred)\n"
      ],
      "execution_count": null,
      "outputs": [
        {
          "output_type": "stream",
          "text": [
            "accuracy:  0.7095541401273885\n",
            "precision:  0.7415185783521809\n",
            "recall : 0.8709677419354839\n",
            "f1_score : 0.8010471204188481\n",
            "matriz de confusión: \n",
            " [[459  68]\n",
            " [160  98]]\n"
          ],
          "name": "stdout"
        }
      ]
    }
  ]
}